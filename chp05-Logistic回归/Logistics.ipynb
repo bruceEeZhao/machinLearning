{
 "cells": [
  {
   "cell_type": "markdown",
   "metadata": {},
   "source": [
    "# 5. Logistic回归\n",
    "回归：假设有一些数据点，用一条直线对这些点进行拟合（该线称为最佳拟合直线），这个拟合过程就称为回归。  \n",
    "\n",
    "Logistics回归适用于标签 𝑦 取值离散的情况，如：1 0 0 1。\n",
    "\n",
    "在二分类任务中，因变量可能属于的两个分类记为0,1，因变量$y\\in\\{0,1\\}$，我们需要一个函数，输出值是0或1，(Heaviside step function)或者称为单位越阶函数可以做到。然而该函数在跳跃点上从0直接跳跃到1，这个瞬间跳跃过程有时很难处理。Sigmod有类似性质，且数学上更容易处理，Sigmod函数的公式如下：\n",
    "\n",
    "$\n",
    "g(z)=\\frac{1}{1+e^{-z}}\n",
    "$\n",
    "\n",
    "引入一个逻辑回归模型，模型的假设函数是 $h_\\theta(x)=g(\\theta^{T}X)$，其中X表示特征向量，g表示逻辑函数。\n",
    "\n",
    "$h\\theta(x)$的作用是，对于给定的输入变量x，根据选择的参数计算输出变量=1 的可能性（estimated probablity）即$h\\theta(x)=P(y=1|x;\\theta)$\n",
    "\n",
    "例如，如果对于给定的𝑥，通过已经确定的参数计算得出$h\\theta(x)=0.7$，则表示有 70%的几率y为正向类，相应地y为负向类的几率为 1-0.7=0.3。\n",
    "\n",
    "$\n",
    "h_\\theta(x)=g(\\theta^{T}X) \\\\\n",
    "g(z)=\\frac{1}{1+e^{-z}}\n",
    "$\n",
    "\n",
    "sigmod函数的输入记为z，z由下面的公式给出$z=\\theta_0x_0+\\theta_1x_1+...+\\theta_nx_n$，如果采用向量的写法，上述公式写做$z=\\theta^{T}X$"
   ]
  },
  {
   "cell_type": "code",
   "execution_count": 138,
   "metadata": {},
   "outputs": [],
   "source": [
    "import matplotlib.pyplot as plt\n",
    "import numpy as np\n",
    "import pandas as pd\n",
    "%matplotlib inline"
   ]
  },
  {
   "cell_type": "code",
   "execution_count": 149,
   "metadata": {},
   "outputs": [],
   "source": [
    "#定义sigmod函数\n",
    "\n",
    "def sigmod(z):\n",
    "    return 1/(1+np.exp(-z))\n",
    "\n",
    "x = np.arange(-5,5,0.01)\n",
    "y = sigmod(x)\n",
    "y05 = np.full(x.shape, 0.5)"
   ]
  },
  {
   "cell_type": "code",
   "execution_count": 150,
   "metadata": {},
   "outputs": [
    {
     "data": {
      "image/png": "[encoded data removed]",
      "text/plain": [
       "<Figure size 432x288 with 1 Axes>"
      ]
     },
     "metadata": {
      "needs_background": "light"
     },
     "output_type": "display_data"
    }
   ],
   "source": [
    "plt.plot(x,y)\n",
    "plt.plot(x,y05)\n",
    "plt.show()"
   ]
  },
  {
   "cell_type": "markdown",
   "metadata": {},
   "source": [
    "training set: $\\{(x_0,y_0),(x_1,y_1)....(x_n,y_n)\\}$ \n",
    "\n",
    "n samples: $\n",
    "    x\\in\n",
    "    \\begin{array}\n",
    "\t{|c|}\n",
    "\tx_{0} \\\\\n",
    "\tx_{1}\\\\\n",
    "\t\\vdots&\\\\\n",
    "\ty_{n}\n",
    "\t\\end{array}\n",
    "    \\qquad y\\in\\{0,1\\}\n",
    "    $\n",
    "    \n",
    "怎么选择向量$\\theta$呢？"
   ]
  },
  {
   "cell_type": "markdown",
   "metadata": {},
   "source": [
    "对于线性回归模型，定义的代价函数是所有模型误差的平方和。\n",
    "\n",
    "$J(\\theta) = \\frac{1}{m}\\sum_{i=1}^m \\frac{1}{2}(h_\\theta(x^i)-y^i))^2$"
   ]
  },
  {
   "cell_type": "code",
   "execution_count": 159,
   "metadata": {},
   "outputs": [],
   "source": [
    "# 假设函数\n",
    "def Htheta(theta, X):\n",
    "    theta = np.matrix(theta)\n",
    "    return sigmod(np.dot(X,theta.T))\n",
    "\n",
    "def Jtheta(theta, x, y,m):\n",
    "    return 1/m * sum(1/2 * pow(Htheta(theta, x)-y ,2))"
   ]
  },
  {
   "cell_type": "markdown",
   "metadata": {},
   "source": [
    "使用梯度下降算法，求解 theta\n",
    "算法为：\n",
    "\n",
    "$\n",
    "Repeat \\{\n",
    "\\theta_j:=\\theta_j-\\alpha \\frac{\\partial}{\\partial \\theta_j} J(\\theta) \\\\\n",
    "\\qquad (simultaneously update all \\theta_j)\n",
    "\\}\n",
    "$\n",
    "\n",
    "求导后得到：\n",
    "\n",
    "$\n",
    "Repeat \\{ \n",
    "\\theta_j:=\\theta_j-\\alpha \\frac{1}{m}\\sum_{i=1}^m(h\\theta(x^i)-y^i)x_j^i \\\\\n",
    "\\qquad (simultaneously update all \\theta_j)\n",
    "\\}\n",
    "$"
   ]
  },
  {
   "cell_type": "code",
   "execution_count": 170,
   "metadata": {},
   "outputs": [],
   "source": [
    "def compute_cost(X,Y,theta):\n",
    "    # 两个数组作矩阵乘积\n",
    "    # 当两个数组的维度不能直接进行矩阵乘法时，dot会把后面的参数进行转置\n",
    "    hypthesis = np.dot(X,np.transpose(theta))\n",
    "    # 先转置再做矩阵乘法\n",
    "    cost = np.dot(np.transpose(hypthesis - Y),(hypthesis -Y))\n",
    "    cost = cost / (2 * X.shape[0])\n",
    "    return cost\n",
    "\n",
    "\n",
    "# 使用梯度下降算法，求解 theta\n",
    "def gradeDescent(X, y, alpha=0.01, iter_num=500):\n",
    "    # 样本个数\n",
    "    m = y.shape[0]\n",
    "    # 代价的历史值\n",
    "    J_history = np.zeros(iter_num)\n",
    "    theta = np.zeros(x.shape[1])\n",
    "    # 进行迭代计算\n",
    "    for num in range(0,iter_num):\n",
    "        # 计算每一个theta值下的代价值\n",
    "        J_history[num] = compute_cost(X,y,theta)\n",
    "        # 根据公式计算梯度，来更新theta的值\n",
    "        hyp = np.dot(X,np.transpose(theta))\n",
    "        theta = theta - alpha * np.dot(np.transpose(hyp -y),X) / m\n",
    "    \n",
    "    return theta,J"
   ]
  },
  {
   "cell_type": "code",
   "execution_count": 154,
   "metadata": {},
   "outputs": [
    {
     "data": {
      "image/png": "[encoded data removed]",
      "text/plain": [
       "<Figure size 432x288 with 1 Axes>"
      ]
     },
     "metadata": {
      "needs_background": "light"
     },
     "output_type": "display_data"
    }
   ],
   "source": [
    "#读取训练数据并绘制图\n",
    "\n",
    "df = pd.read_csv(\"testSet.txt\", sep='\\t')\n",
    "labels = df.labels\n",
    "dataMat = df.iloc[:,0:-1]\n",
    "\n",
    "# 用两种不同的颜色，在同一张图像上，绘制两个类别的数据散点图\n",
    "def plot_data(df):\n",
    "    plt.figure();\n",
    "    pos = df[df['labels']==1]\n",
    "    neg = df[df['labels']==0]\n",
    "    plt.scatter(pos.x1,pos.x2,c='black',marker='o',s=20)\n",
    "    plt.scatter(neg.x1,neg.x2,c='red',marker='o',s=20)\n",
    "plot_data(df)\n",
    "plt.legend(['class1', 'class2'])\n",
    "plt.xlabel('x1')\n",
    "plt.ylabel('x2')\n",
    "plt.show()"
   ]
  },
  {
   "cell_type": "code",
   "execution_count": 171,
   "metadata": {},
   "outputs": [
    {
     "ename": "IndexError",
     "evalue": "tuple index out of range",
     "output_type": "error",
     "traceback": [
      "\u001b[0;31m---------------------------------------------------------------------------\u001b[0m",
      "\u001b[0;31mIndexError\u001b[0m                                Traceback (most recent call last)",
      "\u001b[0;32m<ipython-input-171-d3d683a3dd21>\u001b[0m in \u001b[0;36m<module>\u001b[0;34m\u001b[0m\n\u001b[0;32m----> 1\u001b[0;31m \u001b[0mtheta\u001b[0m\u001b[0;34m,\u001b[0m \u001b[0mJ\u001b[0m \u001b[0;34m=\u001b[0m \u001b[0mgradeDescent\u001b[0m\u001b[0;34m(\u001b[0m\u001b[0mdataMat\u001b[0m\u001b[0;34m,\u001b[0m \u001b[0mlabels\u001b[0m\u001b[0;34m)\u001b[0m\u001b[0;34m\u001b[0m\u001b[0m\n\u001b[0m\u001b[1;32m      2\u001b[0m \u001b[0mprint\u001b[0m\u001b[0;34m(\u001b[0m\u001b[0mJ\u001b[0m\u001b[0;34m.\u001b[0m\u001b[0mshape\u001b[0m\u001b[0;34m,\u001b[0m \u001b[0mtheta\u001b[0m\u001b[0;34m.\u001b[0m\u001b[0mshape\u001b[0m\u001b[0;34m)\u001b[0m\u001b[0;34m\u001b[0m\u001b[0m\n\u001b[1;32m      3\u001b[0m \u001b[0mplt\u001b[0m\u001b[0;34m.\u001b[0m\u001b[0mplot\u001b[0m\u001b[0;34m(\u001b[0m\u001b[0mtheta\u001b[0m\u001b[0;34m[\u001b[0m\u001b[0;36m0\u001b[0m\u001b[0;34m]\u001b[0m\u001b[0;34m,\u001b[0m \u001b[0mJ\u001b[0m\u001b[0;34m,\u001b[0m\u001b[0;34m\"b+\"\u001b[0m\u001b[0;34m)\u001b[0m\u001b[0;34m\u001b[0m\u001b[0m\n\u001b[1;32m      4\u001b[0m \u001b[0;34m\u001b[0m\u001b[0m\n\u001b[1;32m      5\u001b[0m \u001b[0mplt\u001b[0m\u001b[0;34m.\u001b[0m\u001b[0mshow\u001b[0m\u001b[0;34m(\u001b[0m\u001b[0;34m)\u001b[0m\u001b[0;34m\u001b[0m\u001b[0m\n",
      "\u001b[0;32m<ipython-input-170-56c69d29aaf5>\u001b[0m in \u001b[0;36mgradeDescent\u001b[0;34m(X, y, alpha, iter_num)\u001b[0m\n\u001b[1;32m     15\u001b[0m     \u001b[0;31m# 代价的历史值\u001b[0m\u001b[0;34m\u001b[0m\u001b[0;34m\u001b[0m\u001b[0m\n\u001b[1;32m     16\u001b[0m     \u001b[0mJ_history\u001b[0m \u001b[0;34m=\u001b[0m \u001b[0mnp\u001b[0m\u001b[0;34m.\u001b[0m\u001b[0mzeros\u001b[0m\u001b[0;34m(\u001b[0m\u001b[0miter_num\u001b[0m\u001b[0;34m)\u001b[0m\u001b[0;34m\u001b[0m\u001b[0m\n\u001b[0;32m---> 17\u001b[0;31m     \u001b[0mtheta\u001b[0m \u001b[0;34m=\u001b[0m \u001b[0mnp\u001b[0m\u001b[0;34m.\u001b[0m\u001b[0mzeros\u001b[0m\u001b[0;34m(\u001b[0m\u001b[0mx\u001b[0m\u001b[0;34m.\u001b[0m\u001b[0mshape\u001b[0m\u001b[0;34m[\u001b[0m\u001b[0;36m1\u001b[0m\u001b[0;34m]\u001b[0m\u001b[0;34m)\u001b[0m\u001b[0;34m\u001b[0m\u001b[0m\n\u001b[0m\u001b[1;32m     18\u001b[0m     \u001b[0;31m# 进行迭代计算\u001b[0m\u001b[0;34m\u001b[0m\u001b[0;34m\u001b[0m\u001b[0m\n\u001b[1;32m     19\u001b[0m     \u001b[0;32mfor\u001b[0m \u001b[0mnum\u001b[0m \u001b[0;32min\u001b[0m \u001b[0mrange\u001b[0m\u001b[0;34m(\u001b[0m\u001b[0;36m0\u001b[0m\u001b[0;34m,\u001b[0m\u001b[0miter_num\u001b[0m\u001b[0;34m)\u001b[0m\u001b[0;34m:\u001b[0m\u001b[0;34m\u001b[0m\u001b[0m\n",
      "\u001b[0;31mIndexError\u001b[0m: tuple index out of range"
     ]
    }
   ],
   "source": [
    "theta, J = gradeDescent(dataMat, labels)\n",
    "print(J.shape, theta.shape)\n",
    "plt.plot(theta[0], J,\"b+\")\n",
    "\n",
    "plt.show()"
   ]
  },
  {
   "cell_type": "code",
   "execution_count": null,
   "metadata": {},
   "outputs": [],
   "source": []
  }
 ],
 "metadata": {
  "kernelspec": {
   "display_name": "Python 3",
   "language": "python",
   "name": "python3"
  },
  "language_info": {
   "codemirror_mode": {
    "name": "ipython",
    "version": 3
   },
   "file_extension": ".py",
   "mimetype": "text/x-python",
   "name": "python",
   "nbconvert_exporter": "python",
   "pygments_lexer": "ipython3",
   "version": "3.5.2"
  }
 },
 "nbformat": 4,
 "nbformat_minor": 2
}
