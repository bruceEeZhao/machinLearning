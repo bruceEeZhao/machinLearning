{
 "cells": [
  {
   "cell_type": "markdown",
   "metadata": {},
   "source": [
    "# 5. Logistic回归\n",
    "回归：假设有一些数据点，用一条直线对这些点进行拟合（该线称为最佳拟合直线），这个拟合过程就称为回归。  \n",
    "\n",
    "Logistics回归适用于标签 𝑦 取值离散的情况，如：1 0 0 1。\n",
    "\n",
    "在二分类任务中，因变量可能属于的两个分类记为0,1，因变量$y\\in\\{0,1\\}$，我们需要一个函数，输出值是0或1，(Heaviside step function)或者称为单位越阶函数可以做到。然而该函数在跳跃点上从0直接跳跃到1，这个瞬间跳跃过程有时很难处理。Sigmod有类似性质，且数学上更容易处理，Sigmod函数的公式如下：\n",
    "\n",
    "$\n",
    "g(z)=\\frac{1}{1+e^{-z}}\n",
    "$\n",
    "\n",
    "引入一个逻辑回归模型，模型的假设函数是 $h_\\theta(x)=g(\\theta^{T}X)$，其中X表示特征向量，g表示逻辑函数。\n",
    "\n",
    "$h\\theta(x)$的作用是，对于给定的输入变量x，根据选择的参数计算输出变量=1 的可能性（estimated probablity）即$h\\theta(x)=P(y=1|x;\\theta)$\n",
    "\n",
    "例如，如果对于给定的𝑥，通过已经确定的参数计算得出$h\\theta(x)=0.7$，则表示有 70%的几率y为正向类，相应地y为负向类的几率为 1-0.7=0.3。\n",
    "\n",
    "$\n",
    "h_\\theta(x)=g(\\theta^{T}X) \\\\\n",
    "g(z)=\\frac{1}{1+e^{-z}}\n",
    "$\n",
    "\n",
    "sigmod函数的输入记为z，z由下面的公式给出$z=\\theta_0x_0+\\theta_1x_1+...+\\theta_nx_n$，如果采用向量的写法，上述公式写做$z=\\theta^{T}X$"
   ]
  },
  {
   "cell_type": "code",
   "execution_count": 2,
   "metadata": {},
   "outputs": [],
   "source": [
    "import matplotlib.pyplot as plt\n",
    "import numpy as np\n",
    "import pandas as pd\n",
    "%matplotlib inline"
   ]
  },
  {
   "cell_type": "code",
   "execution_count": 21,
   "metadata": {},
   "outputs": [],
   "source": [
    "x = np.arange(-5,5,0.01)\n",
    "y = 1/(1+pow(np.e, -x))\n",
    "y05 = np.full(x.shape, 0.5)"
   ]
  },
  {
   "cell_type": "code",
   "execution_count": 22,
   "metadata": {},
   "outputs": [
    {
     "data": {
      "image/png": "[encoded data removed]",
      "text/plain": [
       "<Figure size 432x288 with 1 Axes>"
      ]
     },
     "metadata": {
      "needs_background": "light"
     },
     "output_type": "display_data"
    }
   ],
   "source": [
    "plt.plot(x,y)\n",
    "plt.plot(x,y05)\n",
    "plt.show()"
   ]
  },
  {
   "cell_type": "markdown",
   "metadata": {},
   "source": [
    "training set: $\\{(x_0,y_0),(x_1,y_1)....(x_n,y_n)\\}$ \n",
    "\n",
    "n samples: $\n",
    "    x\\in\n",
    "    \\begin{array}\n",
    "\t{|c|}\n",
    "\tx_{0} \\\\\n",
    "\tx_{1}\\\\\n",
    "\t\\vdots&\\\\\n",
    "\ty_{n}\n",
    "\t\\end{array}\n",
    "    \\qquad y\\in\\{0,1\\}\n",
    "    $\n",
    "    \n",
    "怎么选择向量$\\theta$呢？"
   ]
  },
  {
   "cell_type": "code",
   "execution_count": null,
   "metadata": {},
   "outputs": [],
   "source": []
  }
 ],
 "metadata": {
  "kernelspec": {
   "display_name": "Python 3",
   "language": "python",
   "name": "python3"
  },
  "language_info": {
   "codemirror_mode": {
    "name": "ipython",
    "version": 3
   },
   "file_extension": ".py",
   "mimetype": "text/x-python",
   "name": "python",
   "nbconvert_exporter": "python",
   "pygments_lexer": "ipython3",
   "version": "3.5.2"
  }
 },
 "nbformat": 4,
 "nbformat_minor": 2
}
