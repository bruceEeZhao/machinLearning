{
 "cells": [
  {
   "cell_type": "markdown",
   "metadata": {},
   "source": [
    "# 10. 聚类\n",
    "\n",
    "## 10.1. 聚类任务\n",
    "在无监督学习(unsupervised learning)中，训练样本的标记信息是未知的，目标是通过对无标记训练样本的学习来揭示数据的内在性质及规律，为进一步的数据分析提供基础。此类学习任务中研究最多、应用最广的是“聚类”(clustering).\n",
    "\n",
    "聚类试图将数据集中的样本划分为若干个通常是不相交的子集，每个子集被称为一个“簇”(cluster)。通过这样的划分，每个簇可能对应于一些潜在的概念(类别)，例如“浅色瓜”、“深色瓜”等。**需要说明的是，这些概念对聚类算法而言事先是未知的，聚类过程仅能自动形成簇，簇所对应的概念语义需要使用者来把握和命名**\n",
    "\n",
    "聚类既能作为一个单独的过程，用于寻找数据内在的分布结构，也可作为分类等其他学习任务的前驱过程。例如，在一些商业应用中需对新用户的类型进行判别，但定义“用户类型”对商家来说可能不太容易，此时可先对用户数据进行聚类，根据聚类结果将每个簇定义为一个类，然后再基于这些类训练分类模型，用于判别新用户的类型。\n",
    "\n",
    "## 10.2. 性能度量\n",
    "聚类的性能度量大致有两类。一类是将聚类结果与某个“参考模型”(reference model)进行比较，称为“外部指标”(external index);另一类是直接考察聚类结果而不利用任何参考模型，称为“内部指标”(internal index)。\n",
    "\n",
    "### 10.2.1. 外部指标\n",
    "\n",
    "对数据集$D=\\{x_1,x_2,...,x_m\\}$，假定通过聚类给出的簇划分为$C=\\{C_1,C2,...,C_k\\}$，参考模型给出的簇划分为$C^*=\\{C_1^*,C_2^*...,C_s^*\\}$(通常$k\\neq s$)。相应的，令$\\lambda$与$\\lambda^*$分别表示$C$与$C^*$对应的簇标记向量。将样本两两配对考虑，定义：\n",
    "\n",
    "$\n",
    "a = |SS|, SS = \\{(x_i,x_j)|\\lambda_i=\\lambda_j, \\lambda_i^* = \\lambda_j^*, i<j\\} \\\\\n",
    "b = |SD|, SD = \\{(x_i,x_j)|\\lambda_i=\\lambda_j, \\lambda_i^* \\neq \\lambda_j^*, i<j\\} \\\\\n",
    "c = |DS|, SS = \\{(x_i,x_j)|\\lambda_i \\neq \\lambda_j, \\lambda_i^* = \\lambda_j^*, i<j\\} \\\\\n",
    "d = |DD|, DD = \\{(x_i,x_j)|\\lambda_i \\neq \\lambda_j, \\lambda_i^* \\neq \\lambda_j^*, i<j\\}\n",
    "$\n",
    "\n",
    "集合SS包含了在C中隶属相同簇且在$C^*$中也隶属相同簇的样本对，集合SD包含了在C中隶属相同簇但在$C^*$中隶属与不同簇的样本对。。。。。\n",
    "\n",
    "由于每个样本对$(x_i, x_j) (i<j)$仅能出现在一个集合中，因此有$a+b+c+d=m(m-1)/2$成立\n",
    "\n",
    "基于上面的4个式子，可以导出常用的聚类性能度量外部指标：\n",
    "\n",
    "- Jaccard系数（Jaccard Coefficient, 简称JC）\n",
    "\n",
    "$\n",
    "JC = \\frac{a}{a+b+c}\n",
    "$\n",
    "\n",
    "- FM指数（Fowlkes and Mallows Index, 简称FMI）\n",
    "\n",
    "$\n",
    "FMI = \\sqrt{\\frac{a}{a+b} \\cdot \\frac{a}{a+c}}\n",
    "$\n",
    "\n",
    "- Rand指数（Rand Index，简称RI）\n",
    "\n",
    "$\n",
    "RI = \\frac{2(a+b)}{m(m-1)}\n",
    "$ \n",
    "\n",
    "上述性能指标的结果均在[0,1]区间，值越大越好\n",
    "\n",
    "### 10.2.2. 内部指标\n",
    "\n",
    "考虑聚类结果的簇划分$C=\\{C_1,C_2,...,C_k\\}$，定义：\n",
    "\n",
    "$\n",
    "avg(C) = \\frac{2}{|C|(|C|-1)} \\sum_{1 \\le i \\le j \\le |C|}dist(x_i,x_j) \\\\\n",
    "diam(C) = \\max_{1 \\le i \\le j \\le |C|}dist(x_i,x_j) \\\\\n",
    "d_{\\min}(C_i, C_j) = \\min_{x_i \\in C_i,x_j \\in C_j} dist(x_i,x_j) \\\\\n",
    "d_{cen}(C_i, C_j) = dist(\\mu_i, \\mu_j)\n",
    "$\n",
    "\n",
    "其中dist()用于计算两个样本之间的距离；$\\mu$代表簇C的中心点$\\mu=\\frac{1}{|C|}\\sum_{1 \\le i \\le |C|}x_1$。显然avg(C)对应于簇C内样本间的平均距离，diam(C)对应于簇C内样本间的最远距离，$d_{\\min}(C_i, C_j)$对应于簇$C_i$与簇$C_j$最近样本距离，$d_{cen}(C_i, C_j)$对应于簇$C_i$与簇$C_j$中心点间的距离。\n",
    "\n",
    "基于上面的4个式子，可导出常用的内部指标：\n",
    "\n",
    "- DB指数（Davies-Bouldin Index，简称DBI）\n",
    "\n",
    "$\n",
    "DBI = \\frac{1}{k}\\sum\\limits_{i=1}^k \\max\\limits_{j \\neq i} \\big(\\frac{avg(C_i)+avg(C_j)}{d_{cen}(C_i, C_j)}\\big)\n",
    "$\n",
    "\n",
    "- Dunn指数（Dunn Index，简称DI）\n",
    "\n",
    "$\n",
    "DI = \\min\\limits_{i\\le i \\le j} \\big\\{ \\min\\limits_{j\\neq i} \\big(\\frac{d_{\\min}(C_i,C_j)}{\\max_{1 \\le l \\le k}diam(C_l)}\\big)    \\big\\}\n",
    "$\n",
    "\n",
    "DBI的值越小越好，DI的值越大越好"
   ]
  },
  {
   "cell_type": "markdown",
   "metadata": {},
   "source": [
    "## 10.3. K-means算法\n",
    "\n",
    "给定样本集$D=\\{x_1,x_2,...,x_m\\}$,k均值算法针对聚类所得簇划分$C=\\{C_1,C_2,...,C_k\\}$最小化平方误差\n",
    "\n",
    "$\n",
    "E = \\sum\\limits_{i=1}^k \\sum\\limits_{x\\in C_i}||x=\\mu_i||_2^2\n",
    "$\n",
    "\n",
    "其中$\\mu_i = \\frac{1}{|C_i|}\\sum_x\\in C_i$ x是簇$C_i$的均值向量，E值越小则簇内样本相似度越高。\n",
    "\n",
    "![kmeans.png](kmeans.png)"
   ]
  },
  {
   "cell_type": "code",
   "execution_count": 9,
   "metadata": {},
   "outputs": [],
   "source": [
    "import numpy as np\n",
    "import pandas as pd\n",
    "import matplotlib.pyplot as plt\n",
    "%matplotlib inline"
   ]
  },
  {
   "cell_type": "code",
   "execution_count": 24,
   "metadata": {},
   "outputs": [],
   "source": [
    "# 计算两个向量之间的欧氏距离\n",
    "def distEclud(vecA, vecB):\n",
    "    return np.sqrt(np.sum(np.power(vecA - vecB, 2)))\n",
    "\n",
    "# 为给定数据集构建一个包含k个随机质心的集合\n",
    "def randCent(dataSet, k):\n",
    "    n = dataSet.shape[1]\n",
    "    centroids = np.mat(np.zeros((k,n)))\n",
    "    for j in range(n):\n",
    "        minJ = min(dataSet[:,j])\n",
    "        rangeJ = float(max(dataSet[:,j]) - minJ)\n",
    "        centroids[:,j] = minJ + rangeJ * np.random.rand(k,1)\n",
    "    return centroids"
   ]
  },
  {
   "cell_type": "code",
   "execution_count": 11,
   "metadata": {},
   "outputs": [],
   "source": [
    "# 测试上面两个函数的正确性\n",
    "datadf = pd.read_csv(\"testSet.txt\", sep = '\\t', header=None)\n",
    "dataMat = np.mat(datadf)"
   ]
  },
  {
   "cell_type": "code",
   "execution_count": 12,
   "metadata": {},
   "outputs": [
    {
     "data": {
      "text/plain": [
       "matrix([[-5.379713]])"
      ]
     },
     "execution_count": 12,
     "metadata": {},
     "output_type": "execute_result"
    }
   ],
   "source": [
    "min(dataMat[:,0])"
   ]
  },
  {
   "cell_type": "code",
   "execution_count": 14,
   "metadata": {},
   "outputs": [
    {
     "data": {
      "text/plain": [
       "matrix([[ 2.35011413, -3.73947463],\n",
       "        [-0.87448505,  4.4455945 ]])"
      ]
     },
     "execution_count": 14,
     "metadata": {},
     "output_type": "execute_result"
    }
   ],
   "source": [
    "randCent(dataMat,2)"
   ]
  },
  {
   "cell_type": "code",
   "execution_count": 25,
   "metadata": {},
   "outputs": [
    {
     "data": {
      "text/plain": [
       "5.184632816681332"
      ]
     },
     "execution_count": 25,
     "metadata": {},
     "output_type": "execute_result"
    }
   ],
   "source": [
    "distEclud(dataMat[0], dataMat[1])"
   ]
  },
  {
   "cell_type": "code",
   "execution_count": 26,
   "metadata": {},
   "outputs": [],
   "source": [
    "# kmeans 算法\n",
    "def kmeans(dataSet, k, distMeans=distEclud, createCent=randCent):\n",
    "    m = dataSet.shape[0]\n",
    "    clusterAssment = np.mat(np.zeros((m,2)))\n",
    "    centroids = createCent(dataSet, k)\n",
    "    clusterChanged = True\n",
    "    while clusterChanged:\n",
    "        clusterChanged = False\n",
    "        for i in range(m):\n",
    "            minDist = np.inf\n",
    "            minIndex = -1\n",
    "            for j in range(k):\n",
    "                distJ = distMeans(centroids[j,:], dataSet[i,:])\n",
    "                if distJ < minDist:\n",
    "                    minDist = distJ\n",
    "                    minIndex = j\n",
    "            if clusterAssment[i,0] != minIndex:\n",
    "                clusterChanged = True\n",
    "            clusterAssment[i,:] = minIndex, minDist**2\n",
    "        print(centroids)\n",
    "        for cent in range(k):\n",
    "            ptsInClust = dataSet[np.nonzero(clusterAssment[:,0].A==cent)[0]]\n",
    "            # axis = 0 表示沿矩阵的列方向进行均值计算\n",
    "            centroids[cent,:] = np.mean(ptsInClust, axis = 0)\n",
    "    return centroids, clusterAssment"
   ]
  },
  {
   "cell_type": "code",
   "execution_count": 50,
   "metadata": {},
   "outputs": [
    {
     "name": "stdout",
     "output_type": "stream",
     "text": [
      "[[-3.72965733 -2.48907135]\n",
      " [ 0.17401484  4.87720701]\n",
      " [ 3.36156062  2.09204104]\n",
      " [ 0.89453673  4.27264426]]\n",
      "[[-3.02774732 -2.48702036]\n",
      " [-2.43723225  3.09155775]\n",
      " [ 2.9920589  -0.44582903]\n",
      " [ 1.7058145   3.85942262]]\n",
      "[[-3.19984738 -2.96423548]\n",
      " [-2.46154315  2.78737555]\n",
      " [ 2.96839327 -2.13784255]\n",
      " [ 2.51964406  3.40459212]]\n",
      "[[-3.38237045 -2.9473363 ]\n",
      " [-2.46154315  2.78737555]\n",
      " [ 2.80293085 -2.7315146 ]\n",
      " [ 2.6265299   3.10868015]]\n"
     ]
    }
   ],
   "source": [
    "myCentroids, clusterAssing = kmeans(dataMat, 4)"
   ]
  },
  {
   "cell_type": "code",
   "execution_count": 51,
   "metadata": {},
   "outputs": [
    {
     "data": {
      "image/png": "[encoded data removed]",
      "text/plain": [
       "<Figure size 432x288 with 1 Axes>"
      ]
     },
     "metadata": {
      "needs_background": "light"
     },
     "output_type": "display_data"
    }
   ],
   "source": [
    "plt.scatter(datadf[0], datadf[1])\n",
    "\n",
    "for i in myCentroids.A:\n",
    "    plt.scatter(i[0], i[1], marker='+', c=\"red\")\n",
    "plt.show()"
   ]
  },
  {
   "cell_type": "code",
   "execution_count": null,
   "metadata": {},
   "outputs": [],
   "source": []
  },
  {
   "cell_type": "markdown",
   "metadata": {},
   "source": [
    "## 10.4. 使用后处理来提高聚类性能\n",
    "\n",
    "一种用于度量聚类效果的指标是SSE(sum of Squared Error，误差平方和)，对应于clusterAssing矩阵的第一列的和。SSE越小表示数据点越接近于它们的质心，聚类效果也越好，因为对误差取了平方，因此更加重视哪些离中心点远的点。\n",
    "\n",
    "## 10.5. 二分K-means算法\n",
    "\n",
    "为了克服K-means算法收敛于局部最小值的问题，提出了二分K-means(bisecting K-means)的算法。该算法首先将所有点作为一个簇，然后将该簇一分为二。之后选择其中一个簇继续进行划分，选择哪一个簇进行划分取决于对其划分是否可以最大程度降低SSE的值。"
   ]
  },
  {
   "cell_type": "code",
   "execution_count": 72,
   "metadata": {},
   "outputs": [],
   "source": [
    "def biKmeans(dataSet, k, distMeas = distEclud):\n",
    "    m = dataSet.shape[0]\n",
    "    clusterAssment = np.mat(np.zeros((m,2)))\n",
    "    centroid0 = np.mean(dataSet, axis=0).tolist()[0]\n",
    "    centList = [centroid0]\n",
    "    for j in range(m):\n",
    "        clusterAssment[j,1] = distMeas(np.mat(centroid0), dataSet[j,:])**2\n",
    "    \n",
    "    while len(centList)<k:\n",
    "        lowestSSE = np.inf\n",
    "        for i in range(len(centList)):\n",
    "            ptsInCurrCluster = dataSet[np.nonzero(clusterAssment[:,0].A==i)[0],:]\n",
    "            centroidMat, splitClusterAss = kmeans(ptsInCurrCluster, 2, distMeas)\n",
    "            sseSplit = np.sum(splitClusterAss[:,1])\n",
    "            sseNotSplit = np.sum(clusterAssment[np.nonzero(clusterAssment[:,0].A!=i)[0], 1])\n",
    "            print(\"sseSplit and notSplit:\",sseSplit, sseNotSplit)\n",
    "            if sseSplit+sseNotSplit < lowestSSE:\n",
    "                bestCentToSplit = i\n",
    "                bestNewCents = centroidMat\n",
    "                bestClustAss = splitClusterAss.copy()\n",
    "                lowestSSE = sseSplit + sseNotSplit\n",
    "                \n",
    "        bestClustAss[np.nonzero(bestClustAss[:,0].A == 1)[0],0] = len(centList)\n",
    "        bestClustAss[np.nonzero(bestClustAss[:,0].A == 0)[0],0] = bestCentToSplit\n",
    "        \n",
    "        print(\"the bestCentToSplit is:\", bestCentToSplit)\n",
    "        print(\"the len of bestClustAss is \", len(bestClustAss))\n",
    "        \n",
    "        centList[bestCentToSplit] = bestNewCents[0,:]\n",
    "        centList.append(bestNewCents[1,:])\n",
    "        clusterAssment[np.nonzero(clusterAssment[:,0].A == bestCentToSplit)[0],:] = bestClustAss\n",
    "\n",
    "    return centList, clusterAssment"
   ]
  },
  {
   "cell_type": "code",
   "execution_count": 73,
   "metadata": {},
   "outputs": [
    {
     "name": "stdout",
     "output_type": "stream",
     "text": [
      "[[ 4.29860009  4.55941982]\n",
      " [ 3.27130599 -1.4351638 ]]\n",
      "[[ 0.28284189  3.44518831]\n",
      " [-0.77451324 -1.88247136]]\n",
      "[[ 0.09338772  3.27587208]\n",
      " [-0.62407076 -2.58281924]]\n",
      "[[-0.00675605  3.22710297]\n",
      " [-0.45965615 -2.7782156 ]]\n",
      "sseSplit and notSplit: 453.0334895807502 0.0\n",
      "the bestCentToSplit is: 0\n",
      "the len of bestClustAss is  60\n",
      "[[ 2.1162168   3.35610864]\n",
      " [-3.59441069  0.94849045]]\n",
      "[[ 2.76275171  3.12704005]\n",
      " [-3.06779095  3.33769884]]\n",
      "[[ 2.93386365  3.12782785]\n",
      " [-2.94737575  3.3263781 ]]\n",
      "sseSplit and notSplit: 77.59224931775066 29.15724944412535\n",
      "[[ 0.53035628 -1.88788629]\n",
      " [-0.21183247 -2.6660122 ]]\n",
      "[[-0.40935333 -1.56898367]\n",
      " [-0.46853312 -2.99160947]]\n",
      "[[-1.25177775 -1.44395175]\n",
      " [-0.26162575 -3.11178156]]\n",
      "[[-1.3776246  -1.6522424 ]\n",
      " [-0.15366667 -3.15354   ]]\n",
      "[[-1.41084317 -1.873139  ]\n",
      " [-0.05200457 -3.16610557]]\n",
      "[[-1.31198114e+00 -1.96162114e+00]\n",
      " [-7.11923077e-04 -3.21792031e+00]]\n",
      "[[-1.26873575 -2.07139688]\n",
      " [ 0.07973025 -3.24942808]]\n",
      "[[-1.26405367 -2.209896  ]\n",
      " [ 0.19848727 -3.24320436]]\n",
      "[[-1.1836084 -2.2507069]\n",
      " [ 0.2642961 -3.3057243]]\n",
      "[[-1.12616164 -2.30193564]\n",
      " [ 0.35496167 -3.36033556]]\n",
      "sseSplit and notSplit: 12.75326313688731 423.8762401366249\n",
      "the bestCentToSplit is: 0\n",
      "the len of bestClustAss is  40\n"
     ]
    }
   ],
   "source": [
    "datadf2 = pd.read_csv(\"testSet2.txt\",sep = '\\t', header = None)\n",
    "dataMat2 = np.mat(datadf2)\n",
    "centList, myNewAssments = biKmeans(dataMat2, 3)"
   ]
  },
  {
   "cell_type": "code",
   "execution_count": 74,
   "metadata": {},
   "outputs": [
    {
     "data": {
      "text/plain": [
       "[matrix([[2.93386365, 3.12782785]]),\n",
       " matrix([[-0.45965615, -2.7782156 ]]),\n",
       " matrix([[-2.94737575,  3.3263781 ]])]"
      ]
     },
     "execution_count": 74,
     "metadata": {},
     "output_type": "execute_result"
    }
   ],
   "source": [
    "centList"
   ]
  },
  {
   "cell_type": "code",
   "execution_count": 78,
   "metadata": {},
   "outputs": [
    {
     "name": "stdout",
     "output_type": "stream",
     "text": [
      "[[2.93386365 3.12782785]]\n"
     ]
    },
    {
     "ename": "IndexError",
     "evalue": "index 1 is out of bounds for axis 0 with size 1",
     "output_type": "error",
     "traceback": [
      "\u001b[0;31m---------------------------------------------------------------------------\u001b[0m",
      "\u001b[0;31mIndexError\u001b[0m                                Traceback (most recent call last)",
      "\u001b[0;32m<ipython-input-78-f2114bbc4988>\u001b[0m in \u001b[0;36m<module>\u001b[0;34m\u001b[0m\n\u001b[1;32m      3\u001b[0m \u001b[0;32mfor\u001b[0m \u001b[0mi\u001b[0m \u001b[0;32min\u001b[0m \u001b[0mcentList\u001b[0m\u001b[0;34m:\u001b[0m\u001b[0;34m\u001b[0m\u001b[0m\n\u001b[1;32m      4\u001b[0m     \u001b[0mprint\u001b[0m\u001b[0;34m(\u001b[0m\u001b[0mi\u001b[0m\u001b[0;34m.\u001b[0m\u001b[0mA\u001b[0m\u001b[0;34m)\u001b[0m\u001b[0;34m\u001b[0m\u001b[0m\n\u001b[0;32m----> 5\u001b[0;31m     \u001b[0mplt\u001b[0m\u001b[0;34m.\u001b[0m\u001b[0mscatter\u001b[0m\u001b[0;34m(\u001b[0m\u001b[0mi\u001b[0m\u001b[0;34m[\u001b[0m\u001b[0;36m0\u001b[0m\u001b[0;34m]\u001b[0m\u001b[0;34m,\u001b[0m \u001b[0mi\u001b[0m\u001b[0;34m[\u001b[0m\u001b[0;36m1\u001b[0m\u001b[0;34m]\u001b[0m\u001b[0;34m,\u001b[0m \u001b[0mmarker\u001b[0m\u001b[0;34m=\u001b[0m\u001b[0;34m'+'\u001b[0m\u001b[0;34m,\u001b[0m \u001b[0mc\u001b[0m\u001b[0;34m=\u001b[0m\u001b[0;34m\"red\"\u001b[0m\u001b[0;34m)\u001b[0m\u001b[0;34m\u001b[0m\u001b[0m\n\u001b[0m\u001b[1;32m      6\u001b[0m \u001b[0mplt\u001b[0m\u001b[0;34m.\u001b[0m\u001b[0mshow\u001b[0m\u001b[0;34m(\u001b[0m\u001b[0;34m)\u001b[0m\u001b[0;34m\u001b[0m\u001b[0m\n",
      "\u001b[0;32m/usr/local/lib/python3.5/dist-packages/numpy/matrixlib/defmatrix.py\u001b[0m in \u001b[0;36m__getitem__\u001b[0;34m(self, index)\u001b[0m\n\u001b[1;32m    193\u001b[0m \u001b[0;34m\u001b[0m\u001b[0m\n\u001b[1;32m    194\u001b[0m         \u001b[0;32mtry\u001b[0m\u001b[0;34m:\u001b[0m\u001b[0;34m\u001b[0m\u001b[0m\n\u001b[0;32m--> 195\u001b[0;31m             \u001b[0mout\u001b[0m \u001b[0;34m=\u001b[0m \u001b[0mN\u001b[0m\u001b[0;34m.\u001b[0m\u001b[0mndarray\u001b[0m\u001b[0;34m.\u001b[0m\u001b[0m__getitem__\u001b[0m\u001b[0;34m(\u001b[0m\u001b[0mself\u001b[0m\u001b[0;34m,\u001b[0m \u001b[0mindex\u001b[0m\u001b[0;34m)\u001b[0m\u001b[0;34m\u001b[0m\u001b[0m\n\u001b[0m\u001b[1;32m    196\u001b[0m         \u001b[0;32mfinally\u001b[0m\u001b[0;34m:\u001b[0m\u001b[0;34m\u001b[0m\u001b[0m\n\u001b[1;32m    197\u001b[0m             \u001b[0mself\u001b[0m\u001b[0;34m.\u001b[0m\u001b[0m_getitem\u001b[0m \u001b[0;34m=\u001b[0m \u001b[0;32mFalse\u001b[0m\u001b[0;34m\u001b[0m\u001b[0m\n",
      "\u001b[0;31mIndexError\u001b[0m: index 1 is out of bounds for axis 0 with size 1"
     ]
    },
    {
     "data": {
      "image/png": "[encoded data removed]",
      "text/plain": [
       "<Figure size 432x288 with 1 Axes>"
      ]
     },
     "metadata": {
      "needs_background": "light"
     },
     "output_type": "display_data"
    }
   ],
   "source": [
    "plt.scatter(datadf2[0], datadf2[1])\n",
    "\n",
    "for i in centList:\n",
    "    plt.scatter(i[0], i[1], marker='+', c=\"red\")\n",
    "plt.show()"
   ]
  },
  {
   "cell_type": "code",
   "execution_count": null,
   "metadata": {},
   "outputs": [],
   "source": []
  }
 ],
 "metadata": {
  "kernelspec": {
   "display_name": "Python 3",
   "language": "python",
   "name": "python3"
  },
  "language_info": {
   "codemirror_mode": {
    "name": "ipython",
    "version": 3
   },
   "file_extension": ".py",
   "mimetype": "text/x-python",
   "name": "python",
   "nbconvert_exporter": "python",
   "pygments_lexer": "ipython3",
   "version": "3.5.2"
  }
 },
 "nbformat": 4,
 "nbformat_minor": 2
}
