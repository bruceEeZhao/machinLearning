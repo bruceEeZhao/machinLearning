{
 "cells": [
  {
   "cell_type": "markdown",
   "metadata": {},
   "source": [
    "# 9. CART\n",
    "决策树的构建算法是ID3**（著名的ID3决策树学习算法[Quinlan, 1986]就是以信息增益为准则来选择划分属性）**。ID3的做法是每次选取当前最佳的特征来分割数据，并按照该特征的所有可能取值来切分。另一种切分方式是二元切分，即每次把数据切成两份，如果数据的某特征值等于切分所要求的值，那么这些数据就进入树的左子树，反之则进入树的右子树。  \n",
    "CART使用二元切分来处理连续变量。"
   ]
  },
  {
   "cell_type": "code",
   "execution_count": 1,
   "metadata": {},
   "outputs": [],
   "source": [
    "import numpy as np\n",
    "import pandas as pd\n",
    "import matplotlib.pyplot as plt\n",
    "%matplotlib inline"
   ]
  },
  {
   "cell_type": "code",
   "execution_count": 43,
   "metadata": {},
   "outputs": [],
   "source": [
    "# 根据阈值将数据集分为两部分\n",
    "def binSplitDataSet(dataSet, feature, value):\n",
    "    mat0 = dataSet[np.nonzero(dataSet[:,feature] > value)[0],:]\n",
    "    mat1 = dataSet[np.nonzero(dataSet[:,feature] <= value)[0],:]\n",
    "    return mat0, mat1"
   ]
  },
  {
   "cell_type": "markdown",
   "metadata": {},
   "source": [
    "createTree伪代码：\n",
    "```\n",
    "找到最佳的待切分特征：\n",
    "    如果该节点不能再分，将该节点存为叶节点\n",
    "    执行二元切分\n",
    "    在右子树调用createTree()方法\n",
    "    在左子树调用createTree()方法\n",
    "```"
   ]
  },
  {
   "cell_type": "code",
   "execution_count": 44,
   "metadata": {},
   "outputs": [],
   "source": [
    "def createTree(dataSet, leafType=regLeaf, errType=regErr, ops=(1,4)):\n",
    "    feat, val = chooseBestSplit(dataSet, leafType, errType, ops)\n",
    "    if feat == None:\n",
    "        return val\n",
    "    retTree = {}\n",
    "    retTree['spInd'] = feat\n",
    "    retTree['spVal'] = val\n",
    "    lSet, rSet = binSplitDataSet(dataSet, feat, val)\n",
    "    retTree['left'] = createTree(lSet, leafType, errType, ops)\n",
    "    retTree['right'] = createTree(rSet, leafType, errType, ops)\n",
    "    return retTree"
   ]
  },
  {
   "cell_type": "code",
   "execution_count": 45,
   "metadata": {},
   "outputs": [],
   "source": [
    "testMat = np.mat(np.eye(4))\n",
    "mat0,mat1 = binSplitDataSet(testMat,1,0.5)"
   ]
  },
  {
   "cell_type": "code",
   "execution_count": 46,
   "metadata": {},
   "outputs": [
    {
     "data": {
      "text/plain": [
       "matrix([[0., 1., 0., 0.]])"
      ]
     },
     "execution_count": 46,
     "metadata": {},
     "output_type": "execute_result"
    }
   ],
   "source": [
    "mat0"
   ]
  },
  {
   "cell_type": "code",
   "execution_count": 47,
   "metadata": {},
   "outputs": [
    {
     "data": {
      "text/plain": [
       "matrix([[1., 0., 0., 0.],\n",
       "        [0., 0., 1., 0.],\n",
       "        [0., 0., 0., 1.]])"
      ]
     },
     "execution_count": 47,
     "metadata": {},
     "output_type": "execute_result"
    }
   ],
   "source": [
    "mat1"
   ]
  },
  {
   "cell_type": "code",
   "execution_count": 48,
   "metadata": {},
   "outputs": [],
   "source": [
    "# 回归树的切分函数\n",
    "def regLeaf(dataSet):\n",
    "    return np.mean(dataSet[:,-1])\n",
    "\n",
    "# 方差var和协方差cov\n",
    "def regErr(dataSet):\n",
    "    return np.var(dataSet[:,-1]*dataSet.shape[0])\n",
    "\n",
    "def chooseBestSplit(dataSet, leafType=regLeaf, errType=regErr, ops=(1,4)):\n",
    "    # 容许的误差下降值\n",
    "    tolS = ops[0]\n",
    "    # 切分的最少样本数\n",
    "    tolN = ops[1]\n",
    "    if len(set(dataSet[:,-1].T.tolist()[0]))==1:\n",
    "        return None, leafType(dataSet)\n",
    "    \n",
    "    m,n = dataSet.shape\n",
    "    S = errType(dataSet)\n",
    "    bestS = np.inf\n",
    "    bestIndex = 0\n",
    "    bestValue = 0\n",
    "    for featIndex in range(n-1):\n",
    "        for splitVal in set(dataSet[:,featIndex].T.tolist()[0]):\n",
    "            mat0, mat1 = binSplitDataSet(dataSet, featIndex, splitVal)\n",
    "            if mat0.shape[0] < tolN or mat1.shape[0] < tolN:\n",
    "                continue\n",
    "            newS = errType(mat0) + errType(mat1)\n",
    "            if newS < bestS:\n",
    "                bestIndex = featIndex\n",
    "                bestValue = splitVal\n",
    "                bestS = newS\n",
    "    if S - bestS < tolS:\n",
    "        return None, leafType(dataSet)\n",
    "    mat0, mat1 = binSplitDataSet(dataSet, bestIndex, bestValue)\n",
    "    if mat0.shape[0] < tolN or mat1.shape[0] < tolN:\n",
    "        return None, leafType(dataSet)\n",
    "    \n",
    "    return bestIndex, bestValue"
   ]
  },
  {
   "cell_type": "code",
   "execution_count": 58,
   "metadata": {},
   "outputs": [
    {
     "data": {
      "text/plain": [
       "{'left': {'left': {'left': {'left': {'left': 0.9558272857142859,\n",
       "     'right': {'left': 0.91617825,\n",
       "      'right': 1.00160025,\n",
       "      'spInd': 0,\n",
       "      'spVal': 0.936783},\n",
       "     'spInd': 0,\n",
       "     'spVal': 0.9531120000000001},\n",
       "    'right': {'left': {'left': 1.0694294000000002,\n",
       "      'right': 0.890274,\n",
       "      'spInd': 0,\n",
       "      'spVal': 0.860049},\n",
       "     'right': 1.11825325,\n",
       "     'spInd': 0,\n",
       "     'spVal': 0.837522},\n",
       "    'spInd': 0,\n",
       "    'spVal': 0.8970940000000001},\n",
       "   'right': {'left': {'left': 0.7364366,\n",
       "     'right': {'left': 1.0177078,\n",
       "      'right': 1.02496475,\n",
       "      'spInd': 0,\n",
       "      'spVal': 0.7731680000000001},\n",
       "     'spInd': 0,\n",
       "     'spVal': 0.7855409999999999},\n",
       "    'right': {'left': {'left': 0.94992825,\n",
       "      'right': 1.0915328,\n",
       "      'spInd': 0,\n",
       "      'spVal': 0.737189},\n",
       "     'right': 0.9028684285714286,\n",
       "     'spInd': 0,\n",
       "     'spVal': 0.712503},\n",
       "    'spInd': 0,\n",
       "    'spVal': 0.761474},\n",
       "   'spInd': 0,\n",
       "   'spVal': 0.813719},\n",
       "  'right': {'left': {'left': {'left': 1.1219195000000002,\n",
       "     'right': {'left': 0.8578814999999999,\n",
       "      'right': 1.1634795,\n",
       "      'spInd': 0,\n",
       "      'spVal': 0.6513760000000001},\n",
       "     'spInd': 0,\n",
       "     'spVal': 0.6632},\n",
       "    'right': 1.0304807142857144,\n",
       "    'spInd': 0,\n",
       "    'spVal': 0.643601},\n",
       "   'right': {'left': {'left': 1.0708530000000003,\n",
       "     'right': {'left': 1.0614092,\n",
       "      'right': 1.17100275,\n",
       "      'spInd': 0,\n",
       "      'spVal': 0.567704},\n",
       "     'spInd': 0,\n",
       "     'spVal': 0.589575},\n",
       "    'right': {'left': {'left': 1.0883455,\n",
       "      'right': 0.9156280000000001,\n",
       "      'spInd': 0,\n",
       "      'spVal': 0.5366890000000001},\n",
       "     'right': 1.1610363333333333,\n",
       "     'spInd': 0,\n",
       "     'spVal': 0.520207},\n",
       "    'spInd': 0,\n",
       "    'spVal': 0.55299},\n",
       "   'spInd': 0,\n",
       "   'spVal': 0.61127},\n",
       "  'spInd': 0,\n",
       "  'spVal': 0.683921},\n",
       " 'right': {'left': {'left': {'left': {'left': -0.11897350000000001,\n",
       "     'right': 0.05462979999999999,\n",
       "     'spInd': 0,\n",
       "     'spVal': 0.44928},\n",
       "    'right': {'left': -0.24926000000000004,\n",
       "     'right': -0.1446175714285714,\n",
       "     'spInd': 0,\n",
       "     'spVal': 0.360323},\n",
       "    'spInd': 0,\n",
       "    'spVal': 0.406649},\n",
       "   'right': {'left': {'left': 0.09667150000000002,\n",
       "     'right': -0.025355800000000005,\n",
       "     'spInd': 0,\n",
       "     'spVal': 0.314924},\n",
       "    'right': -0.11321216666666667,\n",
       "    'spInd': 0,\n",
       "    'spVal': 0.295511},\n",
       "   'spInd': 0,\n",
       "   'spVal': 0.343479},\n",
       "  'right': {'left': {'left': {'left': 0.048804600000000004,\n",
       "     'right': -0.17738871428571426,\n",
       "     'spInd': 0,\n",
       "     'spVal': 0.23806999999999998},\n",
       "    'right': {'left': 0.13008885714285714,\n",
       "     'right': {'left': -0.09861025,\n",
       "      'right': 0.080453,\n",
       "      'spInd': 0,\n",
       "      'spVal': 0.12906099999999998},\n",
       "     'spInd': 0,\n",
       "     'spVal': 0.1333},\n",
       "    'spInd': 0,\n",
       "    'spVal': 0.188218},\n",
       "   'right': {'left': {'left': -0.006301249999999999,\n",
       "     'right': -0.23431800000000003,\n",
       "     'spInd': 0,\n",
       "     'spVal': 0.08193099999999999},\n",
       "    'right': 0.097105625,\n",
       "    'spInd': 0,\n",
       "    'spVal': 0.048014},\n",
       "   'spInd': 0,\n",
       "   'spVal': 0.09801599999999999},\n",
       "  'spInd': 0,\n",
       "  'spVal': 0.268857},\n",
       " 'spInd': 0,\n",
       " 'spVal': 0.48813}"
      ]
     },
     "execution_count": 58,
     "metadata": {},
     "output_type": "execute_result"
    }
   ],
   "source": [
    "datadf = pd.read_csv(\"ex00.txt\", sep='\\t', header=None)\n",
    "dataMat = np.mat(datadf)\n",
    "createTree(dataMat)"
   ]
  },
  {
   "cell_type": "code",
   "execution_count": 59,
   "metadata": {},
   "outputs": [
    {
     "data": {
      "image/png": "[encoded data removed]",
      "text/plain": [
       "<Figure size 432x288 with 1 Axes>"
      ]
     },
     "metadata": {
      "needs_background": "light"
     },
     "output_type": "display_data"
    }
   ],
   "source": [
    "plt.scatter(datadf.iloc[:,0], datadf.iloc[:,1])\n",
    "plt.show()"
   ]
  },
  {
   "cell_type": "code",
   "execution_count": 62,
   "metadata": {},
   "outputs": [
    {
     "data": {
      "text/plain": [
       "{'left': {'left': {'left': {'left': {'left': 3.950397285714285,\n",
       "     'right': 3.8569762499999998,\n",
       "     'spInd': 0,\n",
       "     'spVal': 0.983153},\n",
       "    'right': {'left': 4.095781125,\n",
       "     'right': 3.9507963333333342,\n",
       "     'spInd': 0,\n",
       "     'spVal': 0.9111879999999999},\n",
       "    'spInd': 0,\n",
       "    'spVal': 0.952758},\n",
       "   'right': {'left': 3.9532527142857146,\n",
       "    'right': {'left': 4.0267479999999995,\n",
       "     'right': 4.0387635,\n",
       "     'spInd': 0,\n",
       "     'spVal': 0.832693},\n",
       "    'spInd': 0,\n",
       "    'spVal': 0.8454719999999999},\n",
       "   'spInd': 0,\n",
       "   'spVal': 0.881025},\n",
       "  'right': {'left': {'left': {'left': {'left': 2.941999571428571,\n",
       "      'right': 2.976717,\n",
       "      'spInd': 0,\n",
       "      'spVal': 0.771663},\n",
       "     'right': {'left': 2.8879719999999995,\n",
       "      'right': 3.0789625,\n",
       "      'spInd': 0,\n",
       "      'spVal': 0.71158},\n",
       "     'spInd': 0,\n",
       "     'spVal': 0.725426},\n",
       "    'right': {'left': {'left': 2.9057242,\n",
       "      'right': 3.035501857142857,\n",
       "      'spInd': 0,\n",
       "      'spVal': 0.670361},\n",
       "     'right': 3.008841142857143,\n",
       "     'spInd': 0,\n",
       "     'spVal': 0.622616},\n",
       "    'spInd': 0,\n",
       "    'spVal': 0.691214},\n",
       "   'right': {'left': {'left': {'left': 2.072091,\n",
       "      'right': 1.81453875,\n",
       "      'spInd': 0,\n",
       "      'spVal': 0.559009},\n",
       "     'right': 2.0570818333333336,\n",
       "     'spInd': 0,\n",
       "     'spVal': 0.533241},\n",
       "    'right': {'left': 2.097585,\n",
       "     'right': 2.0983864,\n",
       "     'spInd': 0,\n",
       "     'spVal': 0.504884},\n",
       "    'spInd': 0,\n",
       "    'spVal': 0.519875},\n",
       "   'spInd': 0,\n",
       "   'spVal': 0.582002},\n",
       "  'spInd': 0,\n",
       "  'spVal': 0.797583},\n",
       " 'right': {'left': {'left': {'left': 1.9267176,\n",
       "    'right': 1.860349818181818,\n",
       "    'spInd': 0,\n",
       "    'spVal': 0.45691800000000005},\n",
       "   'right': {'left': {'left': 1.1078694999999998,\n",
       "     'right': {'left': 0.8030192857142858,\n",
       "      'right': 1.0299635,\n",
       "      'spInd': 0,\n",
       "      'spVal': 0.316465},\n",
       "     'spInd': 0,\n",
       "     'spVal': 0.36378299999999997},\n",
       "    'right': {'left': 1.128395625,\n",
       "     'right': 1.090676,\n",
       "     'spInd': 0,\n",
       "     'spVal': 0.23037600000000003},\n",
       "    'spInd': 0,\n",
       "    'spVal': 0.30309400000000003},\n",
       "   'spInd': 0,\n",
       "   'spVal': 0.39435},\n",
       "  'right': {'left': {'left': 0.07189454545454545,\n",
       "    'right': {'left': -0.14759542857142857,\n",
       "     'right': -0.01929022222222223,\n",
       "     'spInd': 0,\n",
       "     'spVal': 0.12929100000000002},\n",
       "    'spInd': 0,\n",
       "    'spVal': 0.148654},\n",
       "   'right': {'left': 0.027865749999999998,\n",
       "    'right': {'left': -0.14933525,\n",
       "     'right': -0.047060333333333336,\n",
       "     'spInd': 0,\n",
       "     'spVal': 0.017774},\n",
       "    'spInd': 0,\n",
       "    'spVal': 0.044136},\n",
       "   'spInd': 0,\n",
       "   'spVal': 0.09449099999999999},\n",
       "  'spInd': 0,\n",
       "  'spVal': 0.19783399999999998},\n",
       " 'spInd': 0,\n",
       " 'spVal': 0.48669799999999996}"
      ]
     },
     "execution_count": 62,
     "metadata": {},
     "output_type": "execute_result"
    }
   ],
   "source": [
    "datadf1 = pd.read_csv(\"ex0.txt\", sep='\\t', header=None)\n",
    "dataMat1 = np.mat(datadf1.iloc[:,1:3])\n",
    "createTree(dataMat1)"
   ]
  },
  {
   "cell_type": "code",
   "execution_count": 66,
   "metadata": {},
   "outputs": [
    {
     "data": {
      "image/png": "[encoded data removed]",
      "text/plain": [
       "<Figure size 432x288 with 1 Axes>"
      ]
     },
     "metadata": {
      "needs_background": "light"
     },
     "output_type": "display_data"
    }
   ],
   "source": [
    "plt.scatter(datadf1.iloc[:,1], datadf1.iloc[:,2])\n",
    "plt.show()"
   ]
  },
  {
   "cell_type": "code",
   "execution_count": 67,
   "metadata": {},
   "outputs": [
    {
     "data": {
      "text/plain": [
       "(200, 2)"
      ]
     },
     "execution_count": 67,
     "metadata": {},
     "output_type": "execute_result"
    }
   ],
   "source": [
    "dataMat.shape"
   ]
  },
  {
   "cell_type": "code",
   "execution_count": null,
   "metadata": {},
   "outputs": [],
   "source": []
  },
  {
   "cell_type": "code",
   "execution_count": null,
   "metadata": {},
   "outputs": [],
   "source": []
  }
 ],
 "metadata": {
  "kernelspec": {
   "display_name": "Python 3",
   "language": "python",
   "name": "python3"
  },
  "language_info": {
   "codemirror_mode": {
    "name": "ipython",
    "version": 3
   },
   "file_extension": ".py",
   "mimetype": "text/x-python",
   "name": "python",
   "nbconvert_exporter": "python",
   "pygments_lexer": "ipython3",
   "version": "3.5.2"
  }
 },
 "nbformat": 4,
 "nbformat_minor": 2
}
