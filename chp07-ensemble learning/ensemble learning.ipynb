{
 "cells": [
  {
   "cell_type": "markdown",
   "metadata": {},
   "source": [
    "# 7. 集成学习\n",
    "\n",
    "集成学习(ensemble learning)通过构建并结合多个学习器来完成学习任务，有时也被称为多分类器系统(multi-classifier system)、基于委员会的学习(committee-based learning)等。\n",
    "\n",
    "下图显示出集成学习的一般性结构：先产生一组“个体学习器”(individual learner)，再用某种策略将他们结合起来。集成中只包含同种类型的个体学习器，例如“决策树集成”中全是决策树，这样的集成是同质的(homogeneous)。同质集成中的个体学习器亦称“基学习器”(base learning)，相应的学习算法被称为“基学习算法”(base learning algorithm)。集成也可以包含不同类型的个体学习器，例如同时包含决策树和神经网络，这样的集成是“异质”的(heterogenous)。异质集成中的个体学习器由不同的学习算法生成，这时就不再有基学习算法；相应的，个体学习器不再称为基学习器，常称为“组件学习器”(component learner)或直接称为个体学习器。\n",
    "![](ensemble-learning.png)\n",
    "目前的集成学习方法大致分为两类：\n",
    "1. 个体学习器间存在强依赖关系，必须串行生成的序列化方法\n",
    "2. 个体学习器将不存在强依赖关系，可同时生成并行化方法\n",
    "\n",
    "1的代表是Boosting，2的代表是Bagging和“随机森林”(Random Forest)"
   ]
  },
  {
   "cell_type": "markdown",
   "metadata": {},
   "source": [
    "## 7.1. Boosting\n",
    "Boosting是一族可将弱学习器提升为强学习器的算法。这族算法的工作机制类似：先从初始训练集训练出一个基学习器，再根据基学习器的表现对训练样本分布进行调整，使得先前基学习器做错的训练样本在后续受到更多关注，然后基于调整后的样本分布来训练下一个基学习器；如此反复进行，直至基学习器数目达到事先指定的值T，最终将这T个基学习器进行加权结合。Boosting族算法最著名的代表是AdaBoost。\n",
    "\n",
    "AdaBoost：运行过程如下：为训练集中的每个样本赋予一个权重alpha，这些权重组成了向量D，向量D中的权重初始值相同。首先在训练数据上训练出一个若分类器并计算错误率，然后在同一数据集上再次训练弱分类器。第二次训练时会调整每个样本的权重，第一次分类正确的样本权重会降低，分类错误的样本的权重会提高（重点关注分类错误的样本）。  \n",
    "错误率定义为：$\\varepsilon=\\frac{未正确分类的样本数目}{所有样本数目}$  \n",
    "alpha的计算公式：$\\alpha=\\frac{1}{2}\\ln\\big(\\frac{1-\\varepsilon}{\\varepsilon}\\big)$  \n",
    "计算出alpha值之后，可以对权重向量D进行更新，以使得正确分类样本的权重降低；错误分类的样本升高。  \n",
    "如果某个样本被分类正确，则权重更新为：$D_i^{(t+1)}=\\frac{D_i^{(t)e^{-a}}}{Sum(D)}$  \n",
    "如果某个样本被分类错误，则权重更新为：$D_i^{(t+1)}=\\frac{D_i^{(t)e^a}}{Sum(D)}$"
   ]
  },
  {
   "cell_type": "code",
   "execution_count": null,
   "metadata": {},
   "outputs": [],
   "source": []
  }
 ],
 "metadata": {
  "kernelspec": {
   "display_name": "Python 3",
   "language": "python",
   "name": "python3"
  },
  "language_info": {
   "codemirror_mode": {
    "name": "ipython",
    "version": 3
   },
   "file_extension": ".py",
   "mimetype": "text/x-python",
   "name": "python",
   "nbconvert_exporter": "python",
   "pygments_lexer": "ipython3",
   "version": "3.5.2"
  }
 },
 "nbformat": 4,
 "nbformat_minor": 2
}
