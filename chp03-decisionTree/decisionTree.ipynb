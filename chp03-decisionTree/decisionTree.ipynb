{
 "cells": [
  {
   "cell_type": "markdown",
   "metadata": {},
   "source": [
    "# 1. 决策树\n",
    "\n",
    "![decisionTree](decisionTree.png)\n",
    "\n",
    "决策树是是基于树结构进行决策的，例如对图中的是否出门进行决策是，通常会进行一系列的子决策。\n",
    "\n",
    "- 一般的一棵决策树包含一个根节点，若干内部节点和若干叶节点；\n",
    "- 叶节点对应于决策结果，其他每个节点则对应与一个属性测试；\n",
    "- 每个节点包含的样本集合根据属性测试的结果被划分到子节点中；\n",
    "- 根节点包含样本全集。\n",
    "- 从根节点到每个叶节点的路径对应了一个判定测试序列。\n",
    "\n",
    "决策树学习的目的是为了产生一棵泛化能力强，即处理未见示例能力强的决策树。"
   ]
  },
  {
   "cell_type": "markdown",
   "metadata": {},
   "source": [
    "## 1.1. 信息增益\n",
    "\n",
    "决策树学习的关键是如何选择最优划分属性，一般而言，随着划分过程的不断进行，我们希望决策树的分支节点所包含的样本尽可能的属于同意类别，即节点的纯度(purity)越来越高。\n",
    "\n",
    "划分数据集之前之后信息发生的变化称为信息增益，获得信息增益高的为好的选择。\n",
    "\n",
    "“信息熵”(information entropy)定义为信息的期望。\n",
    "\n",
    "假设当前样本集合D中的第k类样本所占比例为pk(k=1,2...n)，则D的信息熵为：  \n",
    "$\n",
    "Ent(D)=-\\sum_{k=1}^{n}p_k \\log_2 p_k\n",
    "$  \n",
    "n是分类的数量，Ent(D)的值越小，则D的纯度越高\n",
    "\n",
    "假定离散属性a有V个可能的取值$\\{a^1, a^2, .... a^V\\}$，若使用a对样本D进行划分，则会产生V个分支节点，其中第v个分支包含了D中所有在属性a上取值为$a^v$的样本，记为$D^v$，由于不同分支所包含的样本数不同，因此给分支节点赋予权重，$\\frac{|D^v|}{|D|}$，即样本越多的分支影响力越大。\n",
    "\n",
    "信息增益(information gain)为 $Gain(D,a) = Ent(D)-\\sum_{v=1}^V \\frac{|D^v|}{|D|}Ent(D^v)$\n",
    "\n",
    "一般而言，信息增益越大，则意味着使用属性a来划分所获得的“纯度提升”越大。"
   ]
  },
  {
   "cell_type": "markdown",
   "metadata": {},
   "source": [
    "举例：\n",
    "\n",
    "| 编号 | 色泽 | 根蒂 | 好瓜 |  \n",
    "| :---: | :---: | :---: | :---: |\n",
    "| 1 | 青绿 | 蜷缩 | 是 |\n",
    "| 2 | 乌黑 | 蜷缩 | 是 |\n",
    "| 3 | 乌黑 | 稍蜷 | 是 |\n",
    "| 4 | 乌黑 | 稍蜷 | 否 |\n",
    "| 5 | 青绿 | 硬挺 | 否 |\n",
    "\n",
    "可以看出，共有两类样本，好瓜和坏瓜，其中正例占 $p_1 = \\frac{3}{5}$，反例占$p_2 = \\frac{2}{5}$\n",
    "\n",
    "可以算出根节点的信息熵为：\n",
    "$\n",
    "Ent(D) = -\\sum_{k=1}^2 pk \\log_2 pk=-(\\frac{3}{5}\\log_2 \\frac{3}{5} + \\frac{2}{5}\\log_2 \\frac{2}{5}) = 0.971\n",
    "$\n",
    "\n",
    "计算色泽的增益：\n",
    "\n",
    "色泽共有3种类型： 青绿，乌黑\n",
    "\n",
    "子集$D^1$青绿包含的编号为{1,5}，其中正例占$\\frac{1}{2}$，反例占$\\frac{1}{2}$\n",
    "\n",
    "子集$D^2$乌黑包含的编号为{2,3,4}，其中正例占$\\frac{2}{3}$,反例占$\\frac{1}{3}$\n",
    "\n",
    "$\n",
    "Ent(D^1) = -(\\frac{1}{2}\\log_2 \\frac{1}{2} + \\frac{1}{2}\\log_2 \\frac{1}{2})=1.0\n",
    "Ent(D^2) = -(\\frac{2}{3}\\log_2 \\frac{2}{3} + \\frac{1}{3}\\log_2 \\frac{1}{3})=0.918\n",
    "$\n",
    "\n",
    "色泽的信息增益为：  \n",
    "$\n",
    "Gain(D,色泽) = Ent(D) - \\sum_{v=1}^2 \\frac{|D^v|}{|D|} Ent(D^v) \\\\\n",
    "= 0.971 - (\\frac{2}{5}*1.0 + \\frac{3}{5}*0.918) \\\\\n",
    "= 0.02\n",
    "$"
   ]
  },
  {
   "cell_type": "code",
   "execution_count": 1,
   "metadata": {},
   "outputs": [
    {
     "name": "stdout",
     "output_type": "stream",
     "text": [
      "-0.9709505944546686\n",
      "-1.0\n",
      "-0.9182958340544896\n",
      "0.020199999999999996\n"
     ]
    }
   ],
   "source": [
    "import math\n",
    "print(math.log(3/5,2)*(3/5) + math.log(2/5,2)*(2/5))\n",
    "print(math.log(1/2,2)*(1/2) + math.log(1/2,2)*(1/2))\n",
    "print(math.log(2/3,2)*(2/3) + math.log(1/3,2)*(1/3))\n",
    "print(0.971-(2/5)-(3/5)*0.918)"
   ]
  },
  {
   "cell_type": "markdown",
   "metadata": {},
   "source": [
    "根据上述内容，编写信息熵和信息增益的代码"
   ]
  },
  {
   "cell_type": "code",
   "execution_count": 172,
   "metadata": {},
   "outputs": [],
   "source": [
    "import pandas as pd\n",
    "import numpy as np\n",
    "import math\n",
    "\n",
    "'''\n",
    "    Return:\n",
    "        ent: 信息熵\n",
    "'''\n",
    "def entropy(df):\n",
    "    dataSet = df.iloc[:,0:-1]\n",
    "    labels = df['labels']\n",
    "    arrlabels = np.array(labels)\n",
    "    setlabels = set()\n",
    "    \n",
    "    totalnum = len(dataSet)\n",
    "    \n",
    "    for i in arrlabels:\n",
    "        setlabels.add(i)\n",
    "    # 标签的种类    \n",
    "    typenums = len(setlabels)\n",
    "    \n",
    "    ent = 0\n",
    "    for i in setlabels:\n",
    "        tmplen = len(df[df['labels']==i])\n",
    "        ent += math.log(tmplen/totalnum,2)*(tmplen/totalnum)\n",
    "    \n",
    "    ent = -ent\n",
    "    \n",
    "    return ent\n",
    "\n",
    "\n",
    "'''\n",
    "    Args:\n",
    "        df:  可以认为是原始的dataFrame\n",
    "        attribute： 要计算信息增益的属性名\n",
    "    Return:\n",
    "        ent: 信息增益\n",
    "        \n",
    "'''\n",
    "# attribute 对应上面的 “色泽”\n",
    "def gain(df, attribute):\n",
    "    dataSet = df.iloc[:,0:-1]\n",
    "    labels = df['labels']\n",
    "    totalnum = len(dataSet)\n",
    "    # 计算根节点的信息熵\n",
    "    ent = entropy(df)\n",
    "    \n",
    "    # 在属性a上计算信息熵\n",
    "    a = df[attribute]\n",
    "    a = np.array(a)\n",
    "    # 统计属性a有几种类型\n",
    "    aset = set()\n",
    "    for i in a:\n",
    "        aset.add(i)\n",
    "#     print(len(aset))\n",
    "    for i in aset:\n",
    "        tmpdf = df[df[attribute]==i]\n",
    "        tmpdataSet = tmpdf.iloc[:,0:-1]\n",
    "        tmplabels = tmpdf['labels']\n",
    "        re = entropy(tmpdf)\n",
    "#         print(re, len(tmpdataSet)/totalnum)\n",
    "        ent-=re*(len(tmpdataSet)/totalnum)\n",
    "        \n",
    "    return ent\n",
    "\n"
   ]
  },
  {
   "cell_type": "code",
   "execution_count": 107,
   "metadata": {},
   "outputs": [
    {
     "name": "stdout",
     "output_type": "stream",
     "text": [
      "0.10812516526536531\n",
      "0.14267495956679288\n",
      "0.14078143361499584\n",
      "0.3805918973682686\n",
      "0.28915878284167906\n",
      "0.006046489176565639\n"
     ]
    }
   ],
   "source": [
    "# 测试信息增益计算的正确性，测试数据来自 西瓜书 p76页\n",
    "\n",
    "df = pd.read_csv('watermallon')\n",
    "# dataSet = df.iloc[:,0:-1]\n",
    "# labels = df['labels']\n",
    "print(gain(df, 'color'))\n",
    "print(gain(df, 'root'))\n",
    "print(gain(df, 'knock'))\n",
    "print(gain(df, 'stripp'))\n",
    "print(gain(df, 'sto'))\n",
    "print(gain(df, 'feel'))"
   ]
  },
  {
   "cell_type": "code",
   "execution_count": 119,
   "metadata": {},
   "outputs": [
    {
     "name": "stdout",
     "output_type": "stream",
     "text": [
      "0.04306839587828004\n",
      "0.45810589515712374\n",
      "0.33085622540971754\n",
      "0.45810589515712374\n",
      "0.45810589515712374\n"
     ]
    }
   ],
   "source": [
    "# 在纹理=清晰的分支节点上，计算个属性的信息增益\n",
    "#tdf = df[df['stripp']==\"清晰\"]\n",
    "tdf = df[df['stripp']==\"vivid\"]\n",
    "# dataSet = df.iloc[:,0:-1]\n",
    "# labels = df['labels']\n",
    "print(gain(tdf, 'color'))\n",
    "print(gain(tdf, 'root'))\n",
    "print(gain(tdf, 'knock'))\n",
    "print(gain(tdf, 'sto'))\n",
    "print(gain(tdf, 'feel'))"
   ]
  },
  {
   "cell_type": "markdown",
   "metadata": {},
   "source": [
    "## 1.2. 增益率\n",
    "\n",
    "信息增益准则对可取数目较多的属性有所偏好，为减少这种偏好可能带来的不利影响，C4.5决策树算法不直接使用信息增益，而使用“增益率”(gain ratio)来选择最优划分属性。\n",
    "\n",
    "增益率定义为：  \n",
    "$\n",
    "Gain\\_ratio(D,a) = \\frac{Gain(D,a)}{Iv(a)}\n",
    "$  \n",
    "其中  \n",
    "$\n",
    "IV(a)=-\\sum_{v=1}^{V} \\frac{|D^v|}{|D|} \\log_2 \\frac{|D^v|}{|D|}\n",
    "$  \n",
    "称为属性a的“固有值”(intrinsic value)。属性a的可能取值数目越多(即V越大)，则$IV(a)$的值通常会越大。\n",
    "\n",
    "增益率则对可取值数目较少的属性有所偏好，因此，C4.5算法并不是直接选择增益率最大的候选划分属性，而是使用了一个启发式：先从候选划分属性中找出信息增益高于平均水平的属性，再从中选择增益率高的。"
   ]
  },
  {
   "cell_type": "markdown",
   "metadata": {},
   "source": [
    "## 1.3. 基尼指数\n",
    "CART决策树使用“基尼指数”来选择划分属性，数据集D的纯度可用基尼指数值来度量：\n",
    "\n",
    "$\n",
    "Gini(D)=\\sum_{k=1}^{|y|}\\sum_{k'\\neq k}p_kp_{k'} \\\\\n",
    "=1-\\sum_{k=1}^{|y|}p_k^2\n",
    "$\n",
    "\n",
    "Gini(D)反应了从数据集D中随机抽取两个样本，其类别标记不一致的概率，其值越小，则数据集D的纯度越高。\n",
    "\n",
    "属性a的基尼指数定义为\n",
    "\n",
    "$\n",
    "Gini\\_index(D,a)=\\sum_{v=1}^{V} \\frac{|D^v|}{|D|}Gini(D^v)\n",
    "$\n",
    "\n",
    "于是，我们在候选属性集合A中，选择那个使得划分后基尼指数最小的属性作为最优划分属性，即\n",
    "$\n",
    "a_*={\\underset {a\\in A}{\\operatorname {arg\\,min} }}\\,Gini\\_index(D,a)\n",
    "$"
   ]
  },
  {
   "cell_type": "code",
   "execution_count": 60,
   "metadata": {},
   "outputs": [],
   "source": [
    "# 划分数据集\n",
    "'''\n",
    "    根据信息增益选择最好的划分方式\n",
    "    Args:\n",
    "        df: dataFrame\n",
    "    Returns:\n",
    "        bestGain: 最好划分属性对应的信息增益\n",
    "        bestAttri: 最好的划分属性，例如\"color\"\n",
    "\n",
    "'''\n",
    "\n",
    "def splitDataSet(df):\n",
    "    numFeatures = len(np.array(df.head(1))[0]) - 1\n",
    "    bestGain = 0\n",
    "    bestAttri = ''\n",
    "    \n",
    "    # 这里认为最后一列是标签列\n",
    "    tmpdf = df.iloc[:,0:-1]\n",
    "    for i in tmpdf.columns:\n",
    "        tmpGain = gain(df, i)\n",
    "        if tmpGain > bestGain:\n",
    "            bestGain = tmpGain\n",
    "            bestAttri = i\n",
    "            \n",
    "    return bestGain,bestAttri\n",
    "    "
   ]
  },
  {
   "cell_type": "code",
   "execution_count": 118,
   "metadata": {},
   "outputs": [
    {
     "name": "stdout",
     "output_type": "stream",
     "text": [
      "(0.3805918973682686, 'stripp')\n",
      "(0.45810589515712374, 'root')\n",
      "(0.2516291673878229, 'color')\n"
     ]
    }
   ],
   "source": [
    "print(splitDataSet(df))\n",
    "#tdf1 = df[df['stripp']==\"清晰\"]\n",
    "tdf1 = df[df['stripp']==\"vivid\"]\n",
    "print(splitDataSet(tdf1))\n",
    "#tdf2 = tdf1[tdf1['root']==\"稍蜷\"]\n",
    "tdf2 = tdf1[tdf1['root']==\"littleroll\"]\n",
    "print(splitDataSet(tdf2))"
   ]
  },
  {
   "cell_type": "markdown",
   "metadata": {},
   "source": [
    "## 1.4. 构建决策树\n",
    "下面的伪代码来自西瓜书\n",
    "\n",
    "![decisionTreeAlgorithm](decisionTreeAlgorithm.jpg)"
   ]
  },
  {
   "cell_type": "code",
   "execution_count": 160,
   "metadata": {},
   "outputs": [],
   "source": [
    "'''\n",
    "    树节点：\n",
    "        val：分类的属性名\n",
    "        children: 列表，children==None时是叶子节点\n",
    "\n",
    "\n",
    "    Args:\n",
    "        df: 训练集\n",
    "        A: 属性集\n",
    "    Return:\n",
    "        dTree: 决策树\n",
    "'''\n",
    "\n",
    "import copy\n",
    "\n",
    "class DecisionTree:\n",
    "    # attribute: 分类的属性\n",
    "    # type: 分类（好瓜/坏瓜）\n",
    "    def __init__(self, val):\n",
    "        self.val = val\n",
    "        self.attribute = None\n",
    "        self.type = None\n",
    "        self.children = None\n",
    "        self.childName = None\n",
    "        \n",
    "#找出类别中包含数量最多的类\n",
    "def findMost(labels, df):\n",
    "    most = 0\n",
    "    mostlabel = ''\n",
    "    for i in labels:\n",
    "        num = len(df[df['labels']==i])\n",
    "        if num > most:\n",
    "            most = num\n",
    "            mostlabel = i\n",
    "    return mostlabel\n",
    "\n",
    "def treeGenerate(df, A, df1):\n",
    "    node = DecisionTree(df)\n",
    "    labels = df['labels']\n",
    "    labelset = set(labels)\n",
    "    \n",
    "#     print('--------%s----------'%bestAttri, A)\n",
    "\n",
    "    #属于同一类别C\n",
    "    if len(labelset) == 1:\n",
    "        node.type = list(labelset)[0]\n",
    "        return node\n",
    "    if A==None or len(A)==1:\n",
    "        node.type = findMost(labels, df)\n",
    "        return node\n",
    "    bestGain,bestAttri = splitDataSet(df)\n",
    "    node.attribute = bestAttri\n",
    "    dfattri = df1[bestAttri]\n",
    "    attriset = set(np.array(dfattri))\n",
    "    node.children = []\n",
    "    node.childName = []\n",
    "    AA = copy.copy(A)\n",
    "    #AA.remove(bestAttri)\n",
    "    for i in attriset:\n",
    "        node.childName.append(i)\n",
    "        tmpdf = df[df[bestAttri]==i]\n",
    "        newnode = DecisionTree(tmpdf)\n",
    "        if len(tmpdf)==0:\n",
    "            newnode.type = findMost(labels, df)\n",
    "            node.children.append(newnode)\n",
    "            continue \n",
    "        \n",
    "        node.children.append(treeGenerate(tmpdf, AA,df1))\n",
    "\n",
    "    return node\n",
    "            "
   ]
  },
  {
   "cell_type": "code",
   "execution_count": 161,
   "metadata": {},
   "outputs": [
    {
     "name": "stdout",
     "output_type": "stream",
     "text": [
      "stripp None\n",
      "['vivid', 'vigue', 'littlevigue']\n",
      "    color        root   knock       stripp           sto      feel labels\n",
      "0   green        roll    dull        vivid        sunken  slippery   good\n",
      "1   black        roll  silent        vivid        sunken  slippery   good\n",
      "2   black        roll    dull        vivid        sunken  slippery   good\n",
      "3   green        roll  silent        vivid        sunken  slippery   good\n",
      "4   white        roll    dull        vivid        sunken  slippery   good\n",
      "5   green  littleroll    dull        vivid  littlesunken      soft   good\n",
      "6   black  littleroll    dull  littlevigue  littlesunken      soft   good\n",
      "7   black  littleroll    dull        vivid  littlesunken  slippery   good\n",
      "8   black  littleroll  silent  littlevigue  littlesunken  slippery    bad\n",
      "9   green        hard   clear        vivid        smooth      soft    bad\n",
      "10  white        hard   clear        vigue        smooth  slippery    bad\n",
      "11  white        roll    dull        vigue        smooth      soft    bad\n",
      "12  green  littleroll    dull  littlevigue        sunken  slippery    bad\n",
      "13  white  littleroll  silent  littlevigue        sunken  slippery    bad\n",
      "14  black  littleroll    dull        vivid  littlesunken      soft    bad\n",
      "15  white        roll    dull        vigue        smooth  slippery    bad\n",
      "16  green        roll  silent  littlevigue  littlesunken  slippery    bad\n",
      "[<__main__.DecisionTree object at 0x7ff3cce02f28>, <__main__.DecisionTree object at 0x7ff3cce02668>, <__main__.DecisionTree object at 0x7ff3ccdf29b0>]\n",
      "--------------\n",
      "root None\n",
      "['hard', 'roll', 'littleroll']\n",
      "    color        root   knock stripp           sto      feel labels\n",
      "0   green        roll    dull  vivid        sunken  slippery   good\n",
      "1   black        roll  silent  vivid        sunken  slippery   good\n",
      "2   black        roll    dull  vivid        sunken  slippery   good\n",
      "3   green        roll  silent  vivid        sunken  slippery   good\n",
      "4   white        roll    dull  vivid        sunken  slippery   good\n",
      "5   green  littleroll    dull  vivid  littlesunken      soft   good\n",
      "7   black  littleroll    dull  vivid  littlesunken  slippery   good\n",
      "9   green        hard   clear  vivid        smooth      soft    bad\n",
      "14  black  littleroll    dull  vivid  littlesunken      soft    bad\n",
      "[<__main__.DecisionTree object at 0x7ff3cce02438>, <__main__.DecisionTree object at 0x7ff3cce026d8>, <__main__.DecisionTree object at 0x7ff3cce02400>]\n",
      "--------------\n",
      "None bad\n",
      "None\n",
      "    color  root  knock stripp     sto      feel labels\n",
      "10  white  hard  clear  vigue  smooth  slippery    bad\n",
      "11  white  roll   dull  vigue  smooth      soft    bad\n",
      "15  white  roll   dull  vigue  smooth  slippery    bad\n",
      "None\n",
      "--------------\n",
      "feel None\n",
      "['slippery', 'soft']\n",
      "    color        root   knock       stripp           sto      feel labels\n",
      "6   black  littleroll    dull  littlevigue  littlesunken      soft   good\n",
      "8   black  littleroll  silent  littlevigue  littlesunken  slippery    bad\n",
      "12  green  littleroll    dull  littlevigue        sunken  slippery    bad\n",
      "13  white  littleroll  silent  littlevigue        sunken  slippery    bad\n",
      "16  green        roll  silent  littlevigue  littlesunken  slippery    bad\n",
      "[<__main__.DecisionTree object at 0x7ff3ccdf20b8>, <__main__.DecisionTree object at 0x7ff3ccdf2b00>]\n",
      "--------------\n",
      "None bad\n",
      "None\n",
      "   color  root  knock stripp     sto  feel labels\n",
      "9  green  hard  clear  vivid  smooth  soft    bad\n",
      "None\n",
      "--------------\n",
      "None good\n",
      "None\n",
      "   color  root   knock stripp     sto      feel labels\n",
      "0  green  roll    dull  vivid  sunken  slippery   good\n",
      "1  black  roll  silent  vivid  sunken  slippery   good\n",
      "2  black  roll    dull  vivid  sunken  slippery   good\n",
      "3  green  roll  silent  vivid  sunken  slippery   good\n",
      "4  white  roll    dull  vivid  sunken  slippery   good\n",
      "None\n",
      "--------------\n",
      "color None\n",
      "['white', 'green', 'black']\n",
      "    color        root knock stripp           sto      feel labels\n",
      "5   green  littleroll  dull  vivid  littlesunken      soft   good\n",
      "7   black  littleroll  dull  vivid  littlesunken  slippery   good\n",
      "14  black  littleroll  dull  vivid  littlesunken      soft    bad\n",
      "[<__main__.DecisionTree object at 0x7ff3ccdf2518>, <__main__.DecisionTree object at 0x7ff3ccdf27f0>, <__main__.DecisionTree object at 0x7ff3ccdf2e10>]\n",
      "--------------\n",
      "None bad\n",
      "None\n",
      "    color        root   knock       stripp           sto      feel labels\n",
      "8   black  littleroll  silent  littlevigue  littlesunken  slippery    bad\n",
      "12  green  littleroll    dull  littlevigue        sunken  slippery    bad\n",
      "13  white  littleroll  silent  littlevigue        sunken  slippery    bad\n",
      "16  green        roll  silent  littlevigue  littlesunken  slippery    bad\n",
      "None\n",
      "--------------\n",
      "None good\n",
      "None\n",
      "   color        root knock       stripp           sto  feel labels\n",
      "6  black  littleroll  dull  littlevigue  littlesunken  soft   good\n",
      "None\n",
      "--------------\n",
      "None good\n",
      "None\n",
      "Empty DataFrame\n",
      "Columns: [color, root, knock, stripp, sto, feel, labels]\n",
      "Index: []\n",
      "None\n",
      "--------------\n",
      "None good\n",
      "None\n",
      "   color        root knock stripp           sto  feel labels\n",
      "5  green  littleroll  dull  vivid  littlesunken  soft   good\n",
      "None\n",
      "--------------\n",
      "feel None\n",
      "['slippery', 'soft']\n",
      "    color        root knock stripp           sto      feel labels\n",
      "7   black  littleroll  dull  vivid  littlesunken  slippery   good\n",
      "14  black  littleroll  dull  vivid  littlesunken      soft    bad\n",
      "[<__main__.DecisionTree object at 0x7ff3ccdf2e48>, <__main__.DecisionTree object at 0x7ff3ccdf2a20>]\n",
      "--------------\n",
      "None good\n",
      "None\n",
      "   color        root knock stripp           sto      feel labels\n",
      "7  black  littleroll  dull  vivid  littlesunken  slippery   good\n",
      "None\n",
      "--------------\n",
      "None bad\n",
      "None\n",
      "    color        root knock stripp           sto  feel labels\n",
      "14  black  littleroll  dull  vivid  littlesunken  soft    bad\n",
      "None\n",
      "--------------\n"
     ]
    }
   ],
   "source": [
    "A = set(df.columns.values[0:-1])\n",
    "t = treeGenerate(df, A,df)\n",
    "queue = []\n",
    "queue.append(t)\n",
    "while len(queue)>0:\n",
    "    node = queue.pop(0)\n",
    "    print(node.attribute, node.type)\n",
    "    print(node.childName)\n",
    "    print(node.val)\n",
    "    print(node.children)\n",
    "    print(\"--------------\")\n",
    "    if node.children != None:\n",
    "        for i in node.children:\n",
    "            queue.append(i)"
   ]
  },
  {
   "cell_type": "code",
   "execution_count": 110,
   "metadata": {},
   "outputs": [],
   "source": [
    "# df['color'] = tttttdf['color'].map({1: \"青绿\", 2: \"乌黑\", 3:\"浅白\"})\n",
    "# df['root'] = tttttdf['root'].map({1: \"蜷缩\", 2: \"稍蜷\", 3:\"硬挺\"})\n",
    "# df['knock'] = tttttdf['knock'].map({1: \"浊响\", 2: \"沉闷\", 3:\"清脆\"})\n",
    "# df['stripp'] = tttttdf['stripp'].map({1: \"清晰\", 2: \"稍糊\", 3:\"模糊\"})\n",
    "# df['sto'] = tttttdf['sto'].map({1: \"凹陷\", 2: \"稍凹\", 3:\"平坦\"})\n",
    "# df['feel'] = tttttdf['feel'].map({1: \"硬滑\", 2: \"软粘\"})\n",
    "# df['labels'] = tttttdf['labels'].map({1:\"好瓜\",0:\"坏瓜\"})"
   ]
  },
  {
   "cell_type": "markdown",
   "metadata": {},
   "source": [
    "## 1.5. 绘制树形图"
   ]
  },
  {
   "cell_type": "code",
   "execution_count": 111,
   "metadata": {},
   "outputs": [
    {
     "data": {
      "image/png": "[encoded data removed]",
      "text/plain": [
       "<Figure size 432x288 with 1 Axes>"
      ]
     },
     "metadata": {},
     "output_type": "display_data"
    }
   ],
   "source": [
    "import matplotlib.pyplot as plt\n",
    "%matplotlib inline\n",
    "\n",
    "decisionNode = dict(boxstyle=\"sawtooth\", fc=\"0.8\")\n",
    "leafNode = dict(boxstyle=\"round4\", fc=\"0.8\")\n",
    "arrow_args = dict(arrowstyle=\"<-\")\n",
    "\n",
    "def plotNode(nodeTxt, centerPt, parentPt, nodeType):\n",
    "    createPlot.ax1.annotate(nodeTxt, xy=parentPt, xycoords=\"axes fraction\",\n",
    "                           xytext=centerPt, textcoords=\"axes fraction\",\n",
    "                           va=\"center\", ha=\"center\", bbox=nodeType,\n",
    "                           arrowprops=arrow_args)\n",
    "    \n",
    "def createPlot():\n",
    "    fig = plt.figure(1, facecolor='white')\n",
    "    fig.clf()\n",
    "    createPlot.ax1 = plt.subplot(111, frameon=False)\n",
    "    plotNode('decisionNode', (0.5,0.1),(0.1,0.5), decisionNode)\n",
    "    plotNode('leafNode', (0.8,0.1),(0.3,0.8), leafNode)\n",
    "    plt.show()\n",
    "    \n",
    "    \n",
    "createPlot()"
   ]
  },
  {
   "cell_type": "code",
   "execution_count": 112,
   "metadata": {},
   "outputs": [],
   "source": [
    "import copy\n",
    "\n",
    "def plotMidText(cntrPt, parentPt, txtString):\n",
    "    xMid = (parentPt[0]-cntrPt[0])/2.0 + cntrPt[0]\n",
    "    yMid = (parentPt[1]-cntrPt[1])/2.0 + cntrPt[1]\n",
    "    createPlot.ax1.text(xMid, yMid, txtString)\n",
    "    \n",
    "def getNumLeafs(dcTree):\n",
    "    leafnum = 0\n",
    "    if dcTree.children == None:\n",
    "        return 1\n",
    "        \n",
    "    if dcTree.children != None:\n",
    "        for i in dcTree.children:\n",
    "            leafnum += getNumLeafs(i)\n",
    "        \n",
    "    return leafnum\n",
    "\n",
    "def getTreeDepth(dcTree):\n",
    "    queue = []\n",
    "    leval = 0\n",
    "    \n",
    "    parents = []\n",
    "    queue.append(dcTree)\n",
    "    parents.append(dcTree)\n",
    "    brothers = []\n",
    "    brothers.append(dcTree)\n",
    "    while len(queue)>0:\n",
    "        tmp = queue.pop(0)\n",
    "        parents.pop(0)\n",
    "        \n",
    "        if len(parents)==0:\n",
    "            parents = copy.copy(brothers)\n",
    "            brothers=[]\n",
    "            leval += 1\n",
    "        if tmp.children != None:\n",
    "            for i in tmp.children:\n",
    "                brothers.append(i)\n",
    "                queue.append(i)\n",
    "    return leval\n",
    "\n",
    "def plotTree(dcTree, parentPt, nodeTxt):\n",
    "    numLeafs = getNumLeafs(dcTree)\n",
    "    depth = getTreeDepth(dcTree)\n",
    "    firstStr = dcTree.attribute\n",
    "    cntrPt = (plotTree.xOff + (1.0 + float(numLeafs))/2.0/plotTree.totalW,\n",
    "             plotTree.yOff)\n",
    "    plotMidText(cntrPt, parentPt, nodeTxt)\n",
    "    plotNode(firstStr, cntrPt, parentPt, decisionNode)\n",
    "    \n",
    "    plotTree.yOff = plotTree.yOff - 1.0/plotTree.totalD\n",
    "    if dcTree.children!=None:\n",
    "        for i in dcTree.children:\n",
    "            if i.children != None:\n",
    "                plotTree(i, cntrPt, dcTree.childName[dcTree.children.index(i)])\n",
    "            else:\n",
    "                plotTree.xOff = plotTree.xOff + 1.0/plotTree.totalW\n",
    "                plotNode(i.type, (plotTree.xOff, plotTree.yOff), cntrPt, leafNode)\n",
    "                tmpstr = dcTree.childName[dcTree.children.index(i)]\n",
    "                print(tmpstr)\n",
    "                plotMidText((plotTree.xOff, plotTree.yOff), cntrPt, tmpstr)\n",
    "        \n",
    "    plotNode.yOff = plotTree.yOff + 1.0/plotTree.totalD\n",
    "    "
   ]
  },
  {
   "cell_type": "code",
   "execution_count": 113,
   "metadata": {},
   "outputs": [
    {
     "data": {
      "text/plain": [
       "9"
      ]
     },
     "execution_count": 113,
     "metadata": {},
     "output_type": "execute_result"
    }
   ],
   "source": [
    "getNumLeafs(t)"
   ]
  },
  {
   "cell_type": "code",
   "execution_count": 114,
   "metadata": {},
   "outputs": [
    {
     "data": {
      "text/plain": [
       "5"
      ]
     },
     "execution_count": 114,
     "metadata": {},
     "output_type": "execute_result"
    }
   ],
   "source": [
    "getTreeDepth(t)"
   ]
  },
  {
   "cell_type": "code",
   "execution_count": 138,
   "metadata": {},
   "outputs": [
    {
     "name": "stdout",
     "output_type": "stream",
     "text": [
      "hard\n",
      "roll\n",
      "white\n",
      "green\n",
      "slippery\n",
      "soft\n",
      "vigue\n",
      "slippery\n",
      "soft\n"
     ]
    },
    {
     "data": {
      "image/png": "[encoded data removed]",
      "text/plain": [
       "<Figure size 432x288 with 1 Axes>"
      ]
     },
     "metadata": {},
     "output_type": "display_data"
    }
   ],
   "source": [
    "def createPlot(dTree):\n",
    "    fig = plt.figure(1, facecolor='white')\n",
    "    fig.clf()\n",
    "    axprop = dict(xticks =[], yticks=[])\n",
    "    createPlot.ax1 = plt.subplot(111, frameon=False, **axprop)\n",
    "    \n",
    "    plotTree.totalW = float(getNumLeafs(dTree))\n",
    "    plotTree.totalD = float(getTreeDepth(dTree))\n",
    "    plotTree.xOff = -0.5/plotTree.totalW\n",
    "    plotTree.yOff = 1.0\n",
    "    plotTree(dTree, (0.5,1.0), \"\")\n",
    "    plt.show()\n",
    "    \n",
    "    \n",
    "createPlot(t)"
   ]
  },
  {
   "cell_type": "markdown",
   "metadata": {},
   "source": [
    "## 1.6. 测试和存储分类器"
   ]
  },
  {
   "cell_type": "code",
   "execution_count": 120,
   "metadata": {},
   "outputs": [],
   "source": [
    "def dtclassfy(dTree, testvec, featLeabel):\n",
    "    attri = dTree.attribute\n",
    "    # 在测试向量中找到对应属性的值\n",
    "    testattrival = testvec[featLeabel.index(attri)]\n",
    "    \n",
    "    if testattrival not in dTree.childName:\n",
    "        return \"false\"\n",
    "    child = dTree.children[dTree.childName.index(testattrival)]\n",
    "    if child.childName==None:\n",
    "        return child.type\n",
    "    else:\n",
    "        return dtclassfy(child, testvec, featLeabel)\n",
    "    "
   ]
  },
  {
   "cell_type": "code",
   "execution_count": 166,
   "metadata": {},
   "outputs": [
    {
     "name": "stdout",
     "output_type": "stream",
     "text": [
      "true = good, classfied = bad\n",
      "true = good, classfied = bad\n",
      "true = good, classfied = bad\n",
      "true = bad, classfied = good\n",
      "true = bad, classfied = bad\n",
      "true = bad, classfied = bad\n",
      "true = bad, classfied = good\n",
      "error = 0.714286\n"
     ]
    }
   ],
   "source": [
    "# 划分数据集\n",
    "traindf = df.iloc[[0,1,2,5,6,9,13,14,15,16]]\n",
    "testdf = df.iloc[[3,4,7,8,10,11,12]]\n",
    "\n",
    "A = set(df.columns.values[0:-1])\n",
    "dtTree = treeGenerate(traindf, A, traindf)\n",
    "\n",
    "err = 0\n",
    "for index, i in testdf.iterrows():\n",
    "    i = list(i)\n",
    "    A = list(df.columns.values[0:-1])\n",
    "    classfied = dtclassfy(dtTree, i, A)\n",
    "    print(\"true = %s, classfied = %s\" %(i[-1], classfied))\n",
    "    if classfied != i[-1]:\n",
    "        err+=1\n",
    "        \n",
    "print(\"error = %f\" % (err/len(testdf)))"
   ]
  },
  {
   "cell_type": "code",
   "execution_count": 167,
   "metadata": {},
   "outputs": [
    {
     "name": "stdout",
     "output_type": "stream",
     "text": [
      "white\n",
      "silent\n",
      "clear\n",
      "dull\n",
      "hard\n",
      "roll\n",
      "vivid\n",
      "vigue\n",
      "littlevigue\n"
     ]
    },
    {
     "data": {
      "image/png": "[encoded data removed]",
      "text/plain": [
       "<Figure size 432x288 with 1 Axes>"
      ]
     },
     "metadata": {},
     "output_type": "display_data"
    }
   ],
   "source": [
    "createPlot(dtTree)"
   ]
  },
  {
   "cell_type": "code",
   "execution_count": 173,
   "metadata": {},
   "outputs": [
    {
     "name": "stdout",
     "output_type": "stream",
     "text": [
      "0.27548875021634683\n",
      "0.11452470277266569\n",
      "0.17353374935095955\n",
      "0.1735337493509595\n",
      "0.27548875021634683\n",
      "0.0\n"
     ]
    }
   ],
   "source": [
    "traindf\n",
    "print(gain(traindf, 'color'))\n",
    "print(gain(traindf, 'root'))\n",
    "print(gain(traindf, 'knock'))\n",
    "print(gain(traindf, 'stripp'))\n",
    "print(gain(traindf, 'sto'))\n",
    "print(gain(traindf, 'feel'))"
   ]
  },
  {
   "cell_type": "code",
   "execution_count": 148,
   "metadata": {},
   "outputs": [],
   "source": [
    "# 存储模型\n",
    "import pickle\n",
    "def storeModel(dtTree, filename):\n",
    "#     with open(filename, 'w') as f:\n",
    "#         pickle.dump(dtTree, f)\n",
    "    f = open(filename, 'wb')\n",
    "    pickle.dump(dtTree, f)\n",
    "    f.close()\n",
    "\n",
    "# 从模型文件中导入模型\n",
    "def loadModel(filename):\n",
    "    model = None\n",
    "#     with open(filename, 'r') as f:\n",
    "    f = open(filename, 'rb')\n",
    "    model = pickle.load(f)\n",
    "    f.close()\n",
    "    \n",
    "    return model\n",
    "\n",
    "storeModel(dtTree, \"dtTreeMode\")\n",
    "model = loadModel(\"dtTreeMode\")"
   ]
  },
  {
   "cell_type": "code",
   "execution_count": 150,
   "metadata": {},
   "outputs": [
    {
     "name": "stdout",
     "output_type": "stream",
     "text": [
      "hard\n",
      "roll\n",
      "white\n",
      "green\n",
      "vivid\n",
      "vigue\n",
      "littlevigue\n",
      "smooth\n",
      "hard\n",
      "roll\n",
      "littleroll\n"
     ]
    },
    {
     "data": {
      "image/png": "[encoded data removed]",
      "text/plain": [
       "<Figure size 432x288 with 1 Axes>"
      ]
     },
     "metadata": {},
     "output_type": "display_data"
    }
   ],
   "source": [
    "createPlot(model)"
   ]
  },
  {
   "cell_type": "markdown",
   "metadata": {},
   "source": [
    "## 1.7. 隐形眼睛数据集"
   ]
  },
  {
   "cell_type": "code",
   "execution_count": 162,
   "metadata": {},
   "outputs": [
    {
     "name": "stdout",
     "output_type": "stream",
     "text": [
      "reduced\n",
      "pre\n",
      "presbyopic\n",
      "young\n",
      "myope\n",
      "pre\n",
      "hyper\n",
      "myope\n",
      "young\n"
     ]
    },
    {
     "data": {
      "image/png": "[encoded data removed]",
      "text/plain": [
       "<Figure size 432x288 with 1 Axes>"
      ]
     },
     "metadata": {},
     "output_type": "display_data"
    }
   ],
   "source": [
    "lensesdf = pd.read_csv('lenses.txt')\n",
    "A = set(lensesdf.columns.values[0:-1])\n",
    "dtTree = treeGenerate(lensesdf, A, lensesdf)\n",
    "createPlot(dtTree)"
   ]
  },
  {
   "cell_type": "code",
   "execution_count": null,
   "metadata": {},
   "outputs": [],
   "source": []
  },
  {
   "cell_type": "code",
   "execution_count": null,
   "metadata": {},
   "outputs": [],
   "source": []
  }
 ],
 "metadata": {
  "kernelspec": {
   "display_name": "Python 3",
   "language": "python",
   "name": "python3"
  },
  "language_info": {
   "codemirror_mode": {
    "name": "ipython",
    "version": 3
   },
   "file_extension": ".py",
   "mimetype": "text/x-python",
   "name": "python",
   "nbconvert_exporter": "python",
   "pygments_lexer": "ipython3",
   "version": "3.5.2"
  }
 },
 "nbformat": 4,
 "nbformat_minor": 2
}
