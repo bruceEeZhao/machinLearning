{
 "cells": [
  {
   "cell_type": "markdown",
   "metadata": {},
   "source": [
    "# 8. 回归\n",
    "我们所知道的回归是由达尔文的表兄弟Francis Galton发明的。其于1877年完成了第一次回归预测，目的是根据上一代豌豆种子（双亲）的尺寸来预测下一代豌豆种子（孩子）的尺寸。Galton在大量对象上应用了回归分析，甚至包括人的身高。他注意到，如果双亲的高度比平均高度高，他们的子女也倾向于比平均高度高，但尚不及双亲。孩子的高度向着平均高度回退（回归）。Galton在多项研究上都注意到这个现象，尽管这个英文单词跟数值预测没有任何关系，但这种研究方法仍被称作回归。"
   ]
  },
  {
   "cell_type": "markdown",
   "metadata": {},
   "source": [
    "## 8.1. 标准回归函数\n",
    "通过使平方误差最小来求回归系数$\\omega$，平方误差可以写做：$\\sum_{i=1}^m(y_i-x_i^T\\omega)^2$,其中$y_i$表示真实的标签值$x_i^T\\omega$表示预测的标签值，用矩阵表示还可以写成$(y-X\\omega)^T(y-X\\omega)$。如果对$\\omega$求导，得到$X^T(Y-X\\omega)$，令其等于零，解出$\\omega$如下：\n",
    "\n",
    "$\n",
    "\\hat{\\omega}=(X^TX)^{-1}X^Ty\n",
    "$"
   ]
  },
  {
   "cell_type": "code",
   "execution_count": 3,
   "metadata": {},
   "outputs": [],
   "source": [
    "import numpy as np\n",
    "import pandas as pd\n",
    "import matplotlib.pyplot as plt\n",
    "%matplotlib inline"
   ]
  },
  {
   "cell_type": "code",
   "execution_count": 6,
   "metadata": {},
   "outputs": [],
   "source": [
    "'''\n",
    "根据上面的公式编码：\n",
    "需要考虑矩阵是否可逆，linalg.dat计算行列式，值为0表示矩阵不可逆\n",
    "'''\n",
    "def strandRegress(xArr, yArr):\n",
    "    xMat = np.mat(xArr)\n",
    "    yMat = np.mat(yArr).T\n",
    "    xTx = xMat.T*xMat\n",
    "    if np.linalg.det(xTx) == 0.0:\n",
    "        print(\"This matris is singular, cannot do inverse\")\n",
    "        return\n",
    "    ws = xTx.I*(xMat.T*yMat)\n",
    "    return ws"
   ]
  },
  {
   "cell_type": "code",
   "execution_count": 8,
   "metadata": {},
   "outputs": [],
   "source": [
    "datadf = pd.read_csv(\"ex0.txt\", sep='\\t', header=None)\n",
    "dataArr = datadf.iloc[:,0:-1]\n",
    "labels = datadf.iloc[:,-1]\n",
    "ws = strandRegress(dataArr, labels)"
   ]
  },
  {
   "cell_type": "code",
   "execution_count": 11,
   "metadata": {},
   "outputs": [
    {
     "data": {
      "image/png": "[encoded data removed]",
      "text/plain": [
       "<Figure size 432x288 with 1 Axes>"
      ]
     },
     "metadata": {
      "needs_background": "light"
     },
     "output_type": "display_data"
    }
   ],
   "source": [
    "xMat = np.mat(dataArr)\n",
    "yMat = np.mat(labels)\n",
    "yHat = xMat*ws\n",
    "fig = plt.figure()\n",
    "ax = fig.add_subplot(111)\n",
    "ax.scatter(xMat[:,1].flatten().A[0], yMat.T[:,0].flatten().A[0])\n",
    "xCopy = xMat.copy()\n",
    "xCopy.sort(0)\n",
    "yHat=xCopy*ws\n",
    "ax.plot(xCopy[:,1],yHat)\n",
    "plt.show()"
   ]
  },
  {
   "cell_type": "code",
   "execution_count": 17,
   "metadata": {},
   "outputs": [
    {
     "data": {
      "text/plain": [
       "array([0.067732, 0.42781 , 0.995731, 0.738336, 0.981083, 0.526171,\n",
       "       0.378887, 0.033859, 0.132791, 0.138306, 0.247809, 0.64827 ,\n",
       "       0.731209, 0.236833, 0.969788, 0.607492, 0.358622, 0.147846,\n",
       "       0.63782 , 0.230372, 0.070237, 0.067154, 0.925577, 0.717733,\n",
       "       0.015371, 0.33507 , 0.040486, 0.212575, 0.617218, 0.541196,\n",
       "       0.045353, 0.126762, 0.556486, 0.901144, 0.958476, 0.274561,\n",
       "       0.394396, 0.87248 , 0.409932, 0.908969, 0.166819, 0.665016,\n",
       "       0.263727, 0.231214, 0.552928, 0.047744, 0.365746, 0.495002,\n",
       "       0.493466, 0.792101, 0.76966 , 0.251821, 0.181951, 0.808177,\n",
       "       0.334116, 0.33863 , 0.452584, 0.69477 , 0.590902, 0.307928,\n",
       "       0.148364, 0.70218 , 0.721544, 0.666886, 0.124931, 0.618286,\n",
       "       0.381086, 0.385643, 0.777175, 0.116089, 0.115487, 0.66351 ,\n",
       "       0.254884, 0.993888, 0.295434, 0.952523, 0.307047, 0.277261,\n",
       "       0.279101, 0.175724, 0.156383, 0.733165, 0.848142, 0.771184,\n",
       "       0.429492, 0.162176, 0.917064, 0.315044, 0.201473, 0.297038,\n",
       "       0.336647, 0.666109, 0.583888, 0.085031, 0.687006, 0.949655,\n",
       "       0.189912, 0.844027, 0.333288, 0.427035, 0.466369, 0.550659,\n",
       "       0.278213, 0.918769, 0.886555, 0.569488, 0.066379, 0.335751,\n",
       "       0.426863, 0.395746, 0.694221, 0.27276 , 0.503495, 0.067119,\n",
       "       0.038326, 0.599122, 0.947054, 0.671279, 0.434811, 0.509381,\n",
       "       0.749442, 0.058014, 0.482978, 0.466776, 0.357767, 0.949123,\n",
       "       0.41732 , 0.920461, 0.156433, 0.656662, 0.616418, 0.853428,\n",
       "       0.133295, 0.693007, 0.178449, 0.199526, 0.073224, 0.286515,\n",
       "       0.182026, 0.621523, 0.344584, 0.398556, 0.480369, 0.15335 ,\n",
       "       0.171846, 0.867082, 0.223855, 0.528301, 0.890192, 0.106352,\n",
       "       0.917886, 0.014855, 0.567682, 0.068854, 0.603535, 0.53205 ,\n",
       "       0.651362, 0.901225, 0.204337, 0.696081, 0.963924, 0.98139 ,\n",
       "       0.987911, 0.990947, 0.736021, 0.253574, 0.674722, 0.939368,\n",
       "       0.235419, 0.110521, 0.218023, 0.869778, 0.19683 , 0.958178,\n",
       "       0.972673, 0.745797, 0.445674, 0.470557, 0.549236, 0.335691,\n",
       "       0.884739, 0.918916, 0.441815, 0.116598, 0.359274, 0.814811,\n",
       "       0.387125, 0.982243, 0.78088 , 0.652565, 0.87003 , 0.604755,\n",
       "       0.255212, 0.730546, 0.493829, 0.257017, 0.833735, 0.070095,\n",
       "       0.52707 , 0.116163])"
      ]
     },
     "execution_count": 17,
     "metadata": {},
     "output_type": "execute_result"
    }
   ],
   "source": [
    "xMat[:,1].flatten().A[0]"
   ]
  },
  {
   "cell_type": "markdown",
   "metadata": {},
   "source": [
    "## 8.2. 局部加权线性回归\n",
    "线性回归的一个问题是有可能出现欠拟合现象，其中一个办法是局部加权线性回归。给待检测点附近的每一个点赋予一定的权重，然后在这个子集上基于最小均方差来进行普通回归。与kNN一样，这种算法每次预测均需要事先选取出对应的数据子集。该算法解出回归系数w的形式如下：\n",
    "\n",
    "$\\hat{w}=(X^TWX)^{-1}X^TWy$\n",
    "其中w是一个矩阵，用来给每个数据点赋予权重。  \n",
    "局部加权线性回归使用“核”（与支持向量机中的核类似）来对附近的点赋予更高的权重。最常用的是高斯核：  \n",
    "$\n",
    "w(i,i)=exp\\big(\\frac{|x^{(i)}-x|}{-2k^2} \\big)\n",
    "$\n",
    "这样构建了一个只含对角元素的权重矩阵w，并且点x与x(i)越近，w(i,i)将会越大。上述公式包含一个需要用户指定的参数k，它决定了对附近的点赋予多大的权重，这也是使用局部加权线性回归时唯一要考虑的参数。"
   ]
  },
  {
   "cell_type": "code",
   "execution_count": 87,
   "metadata": {},
   "outputs": [],
   "source": [
    "'''\n",
    "    testPoint: 行向量\n",
    "    xArr: 训练集\n",
    "    yArr: 标签集\n",
    "'''\n",
    "def lwlr(testPoint, xArr, yArr, k=1.0):\n",
    "    xMat = np.mat(xArr)\n",
    "    yMat = np.mat(yArr).T\n",
    "    m  = xArr.shape[0]\n",
    "    # 创建对角矩阵\n",
    "    weights = np.mat(np.eye((m)))\n",
    "    \n",
    "    # 对每一行\n",
    "    for j in range(m):\n",
    "        diffMat = testPoint - xMat[j,:]\n",
    "        weights[j,j] = np.exp(diffMat*diffMat.T/(-2.0*k**2))\n",
    "        \n",
    "    xTx = xMat.T * (weights*xMat)\n",
    "    if np.linalg.det(xTx) == 0.0:\n",
    "        print(\"This matrix is singular, cannot do inverse\")\n",
    "        return\n",
    "    ws = xTx.I * (xMat.T *(weights * yMat))\n",
    "    return testPoint * ws\n",
    "\n",
    "'''\n",
    "    testArr: 测试集\n",
    "    xArr: 训练集\n",
    "    yArr: 标签集\n",
    "'''\n",
    "def lwlrTest(testArr, xArr, yArr, k=1.0):\n",
    "    testArr = np.mat(testArr)\n",
    "    m = xArr.shape[0]\n",
    "    yHat = np.zeros(m)\n",
    "    for i in range(m):\n",
    "        yHat[i] = lwlr(testArr[i,:], xArr, yArr,k)\n",
    "    return yHat"
   ]
  },
  {
   "cell_type": "code",
   "execution_count": 102,
   "metadata": {},
   "outputs": [],
   "source": [
    "yHat1 = lwlrTest(dataArr, dataArr, labels, 1)\n",
    "yHat2 = lwlrTest(dataArr, dataArr, labels, 0.01)\n",
    "yHat3 = lwlrTest(dataArr, dataArr, labels, 0.03)"
   ]
  },
  {
   "cell_type": "code",
   "execution_count": 103,
   "metadata": {},
   "outputs": [
    {
     "data": {
      "image/png": "[encoded data removed]",
      "text/plain": [
       "<Figure size 432x288 with 1 Axes>"
      ]
     },
     "metadata": {
      "needs_background": "light"
     },
     "output_type": "display_data"
    },
    {
     "data": {
      "image/png": "[encoded data removed]",
      "text/plain": [
       "<Figure size 432x288 with 1 Axes>"
      ]
     },
     "metadata": {
      "needs_background": "light"
     },
     "output_type": "display_data"
    },
    {
     "data": {
      "image/png": "[encoded data removed]",
      "text/plain": [
       "<Figure size 432x288 with 1 Axes>"
      ]
     },
     "metadata": {
      "needs_background": "light"
     },
     "output_type": "display_data"
    }
   ],
   "source": [
    "def draw(yHat):\n",
    "    xMat = np.mat(dataArr)\n",
    "    srtInd = xMat[:,1].argsort(0)\n",
    "    xSort = xMat[srtInd][:,0,:]\n",
    "    ysort = yHat[srtInd][:,0]\n",
    "\n",
    "    fig = plt.figure()\n",
    "    ax = fig.add_subplot(111)\n",
    "    ax.plot(xSort[:,1], ysort)\n",
    "    ax.scatter(xMat[:,1].flatten().A[0], np.mat(labels).T.flatten().A[0],s=2,c='red')\n",
    "    plt.show()\n",
    "    \n",
    "draw(yHat1)\n",
    "draw(yHat2)\n",
    "draw(yHat3)"
   ]
  },
  {
   "cell_type": "markdown",
   "metadata": {},
   "source": [
    "## 8.3. 预测鲍鱼年龄"
   ]
  },
  {
   "cell_type": "code",
   "execution_count": 104,
   "metadata": {},
   "outputs": [],
   "source": [
    "def rssError(yArr, yHarArr):\n",
    "    return ((yArr - yHarArr)**2).sum()"
   ]
  },
  {
   "cell_type": "code",
   "execution_count": 105,
   "metadata": {},
   "outputs": [],
   "source": [
    "longdf = pd.read_csv(\"abalone.txt\", sep='\\t', header=None)\n",
    "abX = np.array(longdf.iloc[:,0:-1])\n",
    "abY = np.array(longdf.iloc[:,-1])\n",
    "\n",
    "yHat01 = lwlrTest(abX[0:99], abX[0:99], abY[0:99],0.1)\n",
    "yHat1 = lwlrTest(abX[0:99], abX[0:99], abY[0:99],1)\n",
    "yHat10 = lwlrTest(abX[0:99], abX[0:99], abY[0:99],10)"
   ]
  },
  {
   "cell_type": "code",
   "execution_count": 107,
   "metadata": {},
   "outputs": [
    {
     "name": "stdout",
     "output_type": "stream",
     "text": [
      "56.783061380972846\n",
      "429.8905618701546\n",
      "549.1181708825102\n"
     ]
    }
   ],
   "source": [
    "print(rssError(abY[0:99], yHat01.T))\n",
    "print(rssError(abY[0:99], yHat1.T))\n",
    "print(rssError(abY[0:99], yHat10.T))"
   ]
  },
  {
   "cell_type": "markdown",
   "metadata": {},
   "source": [
    "**使用较小的核容易造成过拟合，对新数据不一定能达到最好的预测效果**"
   ]
  },
  {
   "cell_type": "code",
   "execution_count": 108,
   "metadata": {},
   "outputs": [
    {
     "name": "stdout",
     "output_type": "stream",
     "text": [
      "227485.24120745284\n",
      "573.5261441899553\n",
      "517.5711905383293\n"
     ]
    }
   ],
   "source": [
    "yHat01 = lwlrTest(abX[100:199], abX[0:99], abY[0:99],0.1)\n",
    "yHat1 = lwlrTest(abX[100:199], abX[0:99], abY[0:99],1)\n",
    "yHat10 = lwlrTest(abX[100:199], abX[0:99], abY[0:99],10)\n",
    "print(rssError(abY[100:199], yHat01.T))\n",
    "print(rssError(abY[100:199], yHat1.T))\n",
    "print(rssError(abY[100:199], yHat10.T))"
   ]
  },
  {
   "cell_type": "markdown",
   "metadata": {},
   "source": [
    "与简单线性回归做对比"
   ]
  },
  {
   "cell_type": "code",
   "execution_count": 109,
   "metadata": {},
   "outputs": [
    {
     "data": {
      "text/plain": [
       "518.6363153245803"
      ]
     },
     "execution_count": 109,
     "metadata": {},
     "output_type": "execute_result"
    }
   ],
   "source": [
    "ws = strandRegress(abX[0:99], abY[0:99])\n",
    "yHat = np.mat(abX[100:199])*ws\n",
    "rssError(abY[100:199], yHat.T.A)"
   ]
  },
  {
   "cell_type": "markdown",
   "metadata": {},
   "source": [
    "## 8.4. 缩减系数来“理解数据”\n",
    "\n",
    "如果数据的特征币样本点的数量还多，就不能使用之前的方法，因为在计算$(X^TX)^{-1}的时候会出错$。$X_{m*n}$n>m时，X矩阵不是满秩矩阵，在求逆时会出问题。\n",
    "\n",
    "为了解决这个问题，引入了岭回归(ridge regression)。"
   ]
  },
  {
   "cell_type": "markdown",
   "metadata": {},
   "source": [
    "### 8.4.1. 岭回归\n",
    "简单的说，岭回归就是在矩阵$X^TX$上加一个$\\lambda I$从而使矩阵非奇异，进而能对$X^TX+\\lambda I$求逆。其中矩阵I是一个$m*m$的单位矩阵。回归系数计算公式变成了：\n",
    "\n",
    "$\n",
    "\\hat{w} = (X^TX+\\lambda I)^{-1}X^Ty\n",
    "$\n",
    "\n",
    "岭回归最先用来处理特征数大于样本数的情况，现在也用于在估计中加入偏差，从而得到更好的估计。这里通过引入$\\lambda$来限制了所有w之和，通过引入惩罚项，能减少不重要的参数，这个技术在统计学中也叫作**缩减(sharinage)**"
   ]
  },
  {
   "cell_type": "code",
   "execution_count": 116,
   "metadata": {},
   "outputs": [],
   "source": [
    "def ridgeRegress(xMat, yMat, lambdaa=0.2):\n",
    "    xTx = xMat.T*xMat\n",
    "    denom = xTx + np.eye(xMat.shape[1])*lambdaa\n",
    "    if np.linalg.det(denom) == 0.0:\n",
    "        print(\"this matrix is ingular, cannot do inverse\")\n",
    "        return\n",
    "    ws = denom.I * (xMat.T*yMat)\n",
    "    return ws\n",
    "\n",
    "def ridgeTest(xArr, yArr):\n",
    "    xMat = np.mat(xArr)\n",
    "    yMat = np.mat(yArr).T\n",
    "    \n",
    "    # 数据标准化 start\n",
    "    # 均值\n",
    "    yMean = np.mean(yMat, 0)\n",
    "    xMean = np.mean(xMat, 0)\n",
    "    # 均方差\n",
    "    xVar = np.var(xMat, 0)\n",
    "    yMat = yMat - yMean\n",
    "    xMat = (xMat - xMean)/xVar\n",
    "    # 数据标准化 end\n",
    "    \n",
    "    numTestPts = 30\n",
    "    wMat = np.zeros((numTestPts, xMat.shape[1]))\n",
    "    \n",
    "    for i in range(numTestPts):\n",
    "        ws = ridgeRegress(xMat, yMat, np.exp(i-10))\n",
    "        wMat[i,:]=ws.T\n",
    "    return wMat"
   ]
  },
  {
   "cell_type": "code",
   "execution_count": 117,
   "metadata": {},
   "outputs": [],
   "source": [
    "ridgeWeights = ridgeTest(abX, abY)"
   ]
  },
  {
   "cell_type": "code",
   "execution_count": 121,
   "metadata": {},
   "outputs": [
    {
     "data": {
      "image/png": "[encoded data removed]",
      "text/plain": [
       "<Figure size 432x288 with 1 Axes>"
      ]
     },
     "metadata": {
      "needs_background": "light"
     },
     "output_type": "display_data"
    }
   ],
   "source": [
    "fig = plt.figure()\n",
    "ax = fig.add_subplot(111)\n",
    "ax.plot(ridgeWeights)\n",
    "plt.xlabel(\"log(lambda)\")\n",
    "plt.ylabel(\"w\")\n",
    "plt.show()"
   ]
  },
  {
   "cell_type": "code",
   "execution_count": null,
   "metadata": {},
   "outputs": [],
   "source": []
  }
 ],
 "metadata": {
  "kernelspec": {
   "display_name": "Python 3",
   "language": "python",
   "name": "python3"
  },
  "language_info": {
   "codemirror_mode": {
    "name": "ipython",
    "version": 3
   },
   "file_extension": ".py",
   "mimetype": "text/x-python",
   "name": "python",
   "nbconvert_exporter": "python",
   "pygments_lexer": "ipython3",
   "version": "3.5.2"
  }
 },
 "nbformat": 4,
 "nbformat_minor": 2
}
