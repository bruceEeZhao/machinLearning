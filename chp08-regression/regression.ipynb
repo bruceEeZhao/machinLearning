{
 "cells": [
  {
   "cell_type": "markdown",
   "metadata": {},
   "source": [
    "# 8. 回归\n",
    "我们所知道的回归是由达尔文的表兄弟Francis Galton发明的。其于1877年完成了第一次回归预测，目的是根据上一代豌豆种子（双亲）的尺寸来预测下一代豌豆种子（孩子）的尺寸。Galton在大量对象上应用了回归分析，甚至包括人的身高。他注意到，如果双亲的高度比平均高度高，他们的子女也倾向于比平均高度高，但尚不及双亲。孩子的高度向着平均高度回退（回归）。Galton在多项研究上都注意到这个现象，尽管这个英文单词跟数值预测没有任何关系，但这种研究方法仍被称作回归。"
   ]
  },
  {
   "cell_type": "markdown",
   "metadata": {},
   "source": [
    "## 8.1. 标准回归函数\n",
    "通过使平方误差最小来求回归系数$\\omega$，平方误差可以写做：$\\sum_{i=1}^m(y_i-x_i^T\\omega)^2$,其中$y_i$表示真实的标签值$x_i^T\\omega$表示预测的标签值，用矩阵表示还可以写成$(y-X\\omega)^T(y-X\\omega)$。如果对$\\omega$求导，得到$X^T(Y-X\\omega)$，令其等于零，解出$\\omega$如下：\n",
    "\n",
    "$\n",
    "\\hat{\\omega}=(X^TX)^{-1}X^Ty\n",
    "$"
   ]
  },
  {
   "cell_type": "code",
   "execution_count": 3,
   "metadata": {},
   "outputs": [],
   "source": [
    "import numpy as np\n",
    "import pandas as pd\n",
    "import matplotlib.pyplot as plt\n",
    "%matplotlib inline"
   ]
  },
  {
   "cell_type": "code",
   "execution_count": 6,
   "metadata": {},
   "outputs": [],
   "source": [
    "'''\n",
    "根据上面的公式编码：\n",
    "需要考虑矩阵是否可逆，linalg.dat计算行列式，值为0表示矩阵不可逆\n",
    "'''\n",
    "def strandRegress(xArr, yArr):\n",
    "    xMat = np.mat(xArr)\n",
    "    yMat = np.mat(yArr).T\n",
    "    xTx = xMat.T*xMat\n",
    "    if np.linalg.det(xTx) == 0.0:\n",
    "        print(\"This matris is singular, cannot do inverse\")\n",
    "        return\n",
    "    ws = xTx.I*(xMat.T*yMat)\n",
    "    return ws"
   ]
  },
  {
   "cell_type": "code",
   "execution_count": 8,
   "metadata": {},
   "outputs": [],
   "source": [
    "datadf = pd.read_csv(\"ex0.txt\", sep='\\t', header=None)\n",
    "dataArr = datadf.iloc[:,0:-1]\n",
    "labels = datadf.iloc[:,-1]\n",
    "ws = strandRegress(dataArr, labels)"
   ]
  },
  {
   "cell_type": "code",
   "execution_count": 11,
   "metadata": {},
   "outputs": [
    {
     "data": {
      "image/png": "[encoded data removed]",
      "text/plain": [
       "<Figure size 432x288 with 1 Axes>"
      ]
     },
     "metadata": {
      "needs_background": "light"
     },
     "output_type": "display_data"
    }
   ],
   "source": [
    "xMat = np.mat(dataArr)\n",
    "yMat = np.mat(labels)\n",
    "yHat = xMat*ws\n",
    "fig = plt.figure()\n",
    "ax = fig.add_subplot(111)\n",
    "ax.scatter(xMat[:,1].flatten().A[0], yMat.T[:,0].flatten().A[0])\n",
    "xCopy = xMat.copy()\n",
    "xCopy.sort(0)\n",
    "yHat=xCopy*ws\n",
    "ax.plot(xCopy[:,1],yHat)\n",
    "plt.show()"
   ]
  },
  {
   "cell_type": "code",
   "execution_count": 17,
   "metadata": {},
   "outputs": [
    {
     "data": {
      "text/plain": [
       "array([0.067732, 0.42781 , 0.995731, 0.738336, 0.981083, 0.526171,\n",
       "       0.378887, 0.033859, 0.132791, 0.138306, 0.247809, 0.64827 ,\n",
       "       0.731209, 0.236833, 0.969788, 0.607492, 0.358622, 0.147846,\n",
       "       0.63782 , 0.230372, 0.070237, 0.067154, 0.925577, 0.717733,\n",
       "       0.015371, 0.33507 , 0.040486, 0.212575, 0.617218, 0.541196,\n",
       "       0.045353, 0.126762, 0.556486, 0.901144, 0.958476, 0.274561,\n",
       "       0.394396, 0.87248 , 0.409932, 0.908969, 0.166819, 0.665016,\n",
       "       0.263727, 0.231214, 0.552928, 0.047744, 0.365746, 0.495002,\n",
       "       0.493466, 0.792101, 0.76966 , 0.251821, 0.181951, 0.808177,\n",
       "       0.334116, 0.33863 , 0.452584, 0.69477 , 0.590902, 0.307928,\n",
       "       0.148364, 0.70218 , 0.721544, 0.666886, 0.124931, 0.618286,\n",
       "       0.381086, 0.385643, 0.777175, 0.116089, 0.115487, 0.66351 ,\n",
       "       0.254884, 0.993888, 0.295434, 0.952523, 0.307047, 0.277261,\n",
       "       0.279101, 0.175724, 0.156383, 0.733165, 0.848142, 0.771184,\n",
       "       0.429492, 0.162176, 0.917064, 0.315044, 0.201473, 0.297038,\n",
       "       0.336647, 0.666109, 0.583888, 0.085031, 0.687006, 0.949655,\n",
       "       0.189912, 0.844027, 0.333288, 0.427035, 0.466369, 0.550659,\n",
       "       0.278213, 0.918769, 0.886555, 0.569488, 0.066379, 0.335751,\n",
       "       0.426863, 0.395746, 0.694221, 0.27276 , 0.503495, 0.067119,\n",
       "       0.038326, 0.599122, 0.947054, 0.671279, 0.434811, 0.509381,\n",
       "       0.749442, 0.058014, 0.482978, 0.466776, 0.357767, 0.949123,\n",
       "       0.41732 , 0.920461, 0.156433, 0.656662, 0.616418, 0.853428,\n",
       "       0.133295, 0.693007, 0.178449, 0.199526, 0.073224, 0.286515,\n",
       "       0.182026, 0.621523, 0.344584, 0.398556, 0.480369, 0.15335 ,\n",
       "       0.171846, 0.867082, 0.223855, 0.528301, 0.890192, 0.106352,\n",
       "       0.917886, 0.014855, 0.567682, 0.068854, 0.603535, 0.53205 ,\n",
       "       0.651362, 0.901225, 0.204337, 0.696081, 0.963924, 0.98139 ,\n",
       "       0.987911, 0.990947, 0.736021, 0.253574, 0.674722, 0.939368,\n",
       "       0.235419, 0.110521, 0.218023, 0.869778, 0.19683 , 0.958178,\n",
       "       0.972673, 0.745797, 0.445674, 0.470557, 0.549236, 0.335691,\n",
       "       0.884739, 0.918916, 0.441815, 0.116598, 0.359274, 0.814811,\n",
       "       0.387125, 0.982243, 0.78088 , 0.652565, 0.87003 , 0.604755,\n",
       "       0.255212, 0.730546, 0.493829, 0.257017, 0.833735, 0.070095,\n",
       "       0.52707 , 0.116163])"
      ]
     },
     "execution_count": 17,
     "metadata": {},
     "output_type": "execute_result"
    }
   ],
   "source": [
    "xMat[:,1].flatten().A[0]"
   ]
  },
  {
   "cell_type": "code",
   "execution_count": null,
   "metadata": {},
   "outputs": [],
   "source": []
  }
 ],
 "metadata": {
  "kernelspec": {
   "display_name": "Python 3",
   "language": "python",
   "name": "python3"
  },
  "language_info": {
   "codemirror_mode": {
    "name": "ipython",
    "version": 3
   },
   "file_extension": ".py",
   "mimetype": "text/x-python",
   "name": "python",
   "nbconvert_exporter": "python",
   "pygments_lexer": "ipython3",
   "version": "3.5.2"
  }
 },
 "nbformat": 4,
 "nbformat_minor": 2
}
