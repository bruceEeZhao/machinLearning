{
 "cells": [
  {
   "cell_type": "markdown",
   "metadata": {},
   "source": [
    "# 12. 使用FP-growth算法来高效发现频繁集\n",
    "\n",
    "FP-growth 算法基于Apriori构建，但在完成相同任务时采用了一些不同的技术。这里的任务是将数据集存在一个称为FP树的结构之后发现频繁项集或频繁项对，即常在一块出现的元素项的集合FP树。这种做法使得算法的执行速度要快于Apriori。\n",
    "\n",
    "该算法能更为高效的发现频繁项集，但不能用于发现关联规则。FP-growth算法只扫描数据两次，它发现频繁项集的基本过程如下：\n",
    "\n",
    "1. 构建FP树\n",
    "2. 从FP树中挖掘频繁项集"
   ]
  },
  {
   "cell_type": "code",
   "execution_count": 5,
   "metadata": {},
   "outputs": [],
   "source": [
    "import numpy as np\n",
    "import pandas as pd\n",
    "import matplotlib.pyplot as plt\n",
    "%matplotlib inline"
   ]
  },
  {
   "cell_type": "markdown",
   "metadata": {},
   "source": [
    "## 12.1. 创建FP树的数据结构"
   ]
  },
  {
   "cell_type": "code",
   "execution_count": 3,
   "metadata": {},
   "outputs": [],
   "source": [
    "class treeNode:\n",
    "    def __init__(self, nameValue, numOccur, parentNode):\n",
    "        self.name = nameValue\n",
    "        self.count = numOccur\n",
    "        self.nodeLink = None\n",
    "        self.parent = parentNode\n",
    "        self.children = {}\n",
    "        \n",
    "    # 增加count的值\n",
    "    def inc(self, numOccur):\n",
    "        self.count += numOccur\n",
    "    \n",
    "    # 用于打印出树，便于调试\n",
    "    def disp(self, ind=1):\n",
    "        print(\" \"*ind, self.name, ' ', self.count)\n",
    "        for child in self.children.values():\n",
    "            child.disp(ind+1)"
   ]
  },
  {
   "cell_type": "code",
   "execution_count": 2,
   "metadata": {},
   "outputs": [
    {
     "name": "stdout",
     "output_type": "stream",
     "text": [
      "  pyramid   9\n",
      "   eye   13\n"
     ]
    }
   ],
   "source": [
    "# 测试代码\n",
    "rootNode = treeNode('pyramid', 9, None)\n",
    "rootNode.children['eye'] = treeNode('eye', 13, None)\n",
    "rootNode.disp()"
   ]
  },
  {
   "cell_type": "markdown",
   "metadata": {},
   "source": [
    "## 12.2. 构建FP树\n",
    "\n",
    "除了FP树之外，还需要一个头指针来指向给定类型的第一个实例。利用头指针表可以快速访问FP树中的一个给定类型的所有元素。\n",
    "![](FP-tree.png)\n",
    "这里使用一个字典作为数据结构，来保存头部指针，除了存放头部指针，还保存FP树中每类元素的总数\n",
    "\n",
    "第一遍遍历数据集会获得每个元素项的出现频率。接下来去掉不满足最小支持度的元素项，再下一步构建FP树。"
   ]
  },
  {
   "cell_type": "markdown",
   "metadata": {},
   "source": [
    "假设有以下交易：\n",
    "\n",
    "| 交易id | 交易项 |\n",
    "|:-----:|:-----:|\n",
    "| 1 | r,z,h,j,p |\n",
    "| 2 | z,y,x,w,v,u,t,s |\n",
    "| 3 | z |\n",
    "| 4 | r,x,n,o,s |\n",
    "| 5 | y,r,x,z,q,t,p |\n",
    "| 6 | y,z,x,e,q,s,t,m |\n",
    "\n",
    "首先遍历一遍数据集，生成头指针表，并排序，把小于最小支持度的元素丢弃"
   ]
  },
  {
   "cell_type": "code",
   "execution_count": 34,
   "metadata": {},
   "outputs": [],
   "source": [
    "# 生成头部指针表，注意：这里并没有添加头部指针\n",
    "def genHeadPointerList(dataSet, minsup = 2):\n",
    "    headdict = {}\n",
    "    retdict = {}\n",
    "    for trans in dataSet:\n",
    "        for i in trans:\n",
    "            headdict[i] = headdict.get(i,0) + 1\n",
    "    \n",
    "    for key,val in headdict.items():\n",
    "        if val >= minsup:\n",
    "            retdict[key] = val\n",
    "            \n",
    "    return retdict"
   ]
  },
  {
   "cell_type": "code",
   "execution_count": 29,
   "metadata": {},
   "outputs": [],
   "source": [
    "def loadData(file):\n",
    "    dataSet = []\n",
    "    with open(file, 'r') as f:\n",
    "        for line in f.readlines():\n",
    "            dataSet.append(line.strip().split(','))\n",
    "    return dataSet"
   ]
  },
  {
   "cell_type": "code",
   "execution_count": 30,
   "metadata": {},
   "outputs": [],
   "source": [
    "dataSet = loadData('test')"
   ]
  },
  {
   "cell_type": "code",
   "execution_count": 35,
   "metadata": {},
   "outputs": [
    {
     "data": {
      "text/plain": [
       "{'r': 3, 's': 3, 't': 3, 'x': 3, 'y': 3, 'z': 5}"
      ]
     },
     "execution_count": 35,
     "metadata": {},
     "output_type": "execute_result"
    }
   ],
   "source": [
    "genHeadPointerList(dataSet, 3)"
   ]
  },
  {
   "cell_type": "code",
   "execution_count": 38,
   "metadata": {},
   "outputs": [
    {
     "data": {
      "text/plain": [
       "['z', 't', 's', 'r', 'y', 'x']"
      ]
     },
     "execution_count": 38,
     "metadata": {},
     "output_type": "execute_result"
    }
   ],
   "source": [
    "[v[0] for v in sorted(genHeadPointerList(dataSet, 3).items(), key = lambda kv:kv[1], reverse=True)]"
   ]
  },
  {
   "cell_type": "markdown",
   "metadata": {},
   "source": [
    "将得到的结果进行排序，除了z之外其他元素的个数相同，这里不妨假设排序的结果为： z,x,y,s,r,t,于是，根据这个结果我们得到了新的交易列表\n",
    "\n",
    "| 交易id | 交易项 |\n",
    "|:-----:|:-----:|\n",
    "| 1 | z,r |\n",
    "| 2 | z,x,y,s,t |\n",
    "| 3 | z |\n",
    "| 4 | x,s,r |\n",
    "| 5 | z,x,y,r,t |\n",
    "| 6 | y,x,y,s,t |\n",
    "\n",
    "接下来我们就可以构建FP树了。下面这张图展示了根据上面表中的数据构建FP树的过程。\n",
    "![](FP-Tree-gen.png)\n",
    "依次遍历每一个交易项，从空集开始，向其中不断添加，如果树中已存在现有元素则增加元素的值，否则添加一个新的分支。"
   ]
  },
  {
   "cell_type": "code",
   "execution_count": 60,
   "metadata": {},
   "outputs": [],
   "source": [
    "def createTree(dataSet, minSup = 1):\n",
    "    headerTable = genHeadPointerList(dataSet, minSup)\n",
    "    freqItemSet = set(headerTable)\n",
    "    \n",
    "    # 如果没有元素满足要求，则返回None\n",
    "    if len(freqItemSet) == 0:\n",
    "        return None, None\n",
    "    \n",
    "    # 重新组织字典，为其添加头部指针，初始化为None\n",
    "    for k in headerTable:\n",
    "        headerTable[k] = [headerTable[k], None]\n",
    "        \n",
    "    retTree = treeNode(\"Null Set\", 1, None)\n",
    "    \n",
    "    # 根据排序后的结果生成新的交易列表，同时生成树\n",
    "    for trans in dataSet:\n",
    "        localD = {}\n",
    "        for item in trans:\n",
    "            if item in freqItemSet:\n",
    "                localD[item] = headerTable[item][0]\n",
    "        if len(localD) > 0: \n",
    "            # 按照出现频率排序，生成新的交易列表\n",
    "            orderedItems = [v[0] for v in sorted(localD.items(), key = lambda kv:kv[1], reverse=True)]\n",
    "            print(orderedItems)\n",
    "            updateTree(orderedItems, retTree, headerTable)\n",
    "                \n",
    "    return retTree, headerTable\n",
    "\n",
    "\n",
    "def updateTree(items, inTree, headerTable):\n",
    "#     print(items[0])\n",
    "    if items[0] in inTree.children:\n",
    "        # 计数增加1\n",
    "        inTree.children[items[0]].inc(1)\n",
    "    else:\n",
    "        # 当前元素没有在树中，建立新子树\n",
    "        inTree.children[items[0]] = treeNode(items[0], 1, inTree)\n",
    "        if headerTable[items[0]][1] == None:\n",
    "            headerTable[items[0]][1] = inTree.children[items[0]]\n",
    "        else:\n",
    "            updateHeader(headerTable[items[0]][1], inTree.children[items[0]])\n",
    "            \n",
    "    if len(items) > 1:\n",
    "        updateTree(items[1:], inTree.children[items[0]], headerTable)\n",
    "        \n",
    "        \n",
    "def updateHeader(nodeToTest, targetNode):\n",
    "    while (nodeToTest.nodeLink != None):\n",
    "        nodeToTest = nodeToTest.nodeLink\n",
    "    nodeToTest.nodeLink = targetNode\n",
    "    \n",
    "        "
   ]
  },
  {
   "cell_type": "code",
   "execution_count": 61,
   "metadata": {},
   "outputs": [
    {
     "name": "stdout",
     "output_type": "stream",
     "text": [
      "['z', 'r']\n",
      "['z', 's', 't', 'y', 'x']\n",
      "['z']\n",
      "['r', 's', 'x']\n",
      "['z', 'r', 't', 'y']\n",
      "['z', 's', 't', 'y', 'x']\n",
      "  Null Set   1\n",
      "   r   1\n",
      "    s   1\n",
      "     x   1\n",
      "   z   5\n",
      "    r   2\n",
      "     t   1\n",
      "      y   1\n",
      "    s   2\n",
      "     t   2\n",
      "      y   2\n",
      "       x   2\n"
     ]
    }
   ],
   "source": [
    "myTree, headerTable = createTree(dataSet, 3)\n",
    "myTree.disp()"
   ]
  },
  {
   "cell_type": "code",
   "execution_count": null,
   "metadata": {},
   "outputs": [],
   "source": []
  }
 ],
 "metadata": {
  "kernelspec": {
   "display_name": "Python 3",
   "language": "python",
   "name": "python3"
  },
  "language_info": {
   "codemirror_mode": {
    "name": "ipython",
    "version": 3
   },
   "file_extension": ".py",
   "mimetype": "text/x-python",
   "name": "python",
   "nbconvert_exporter": "python",
   "pygments_lexer": "ipython3",
   "version": "3.5.2"
  }
 },
 "nbformat": 4,
 "nbformat_minor": 2
}
