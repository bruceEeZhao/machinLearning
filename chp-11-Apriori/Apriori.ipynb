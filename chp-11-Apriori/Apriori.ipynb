{
 "cells": [
  {
   "cell_type": "markdown",
   "metadata": {},
   "source": [
    "# 11. 使用Apriori算法进行关联分析\n",
    "\n",
    "从大规模数据集中寻找物品间的隐含关系被称为关联分析(association analysis)或者关联规则学习(association rule learning)。\n",
    "\n",
    "大规模数据的关系可以有两种形式：频繁项集和关联规则  \n",
    "- 频繁项集(frequent item sets)：经常出现在一起的物品的集合\n",
    "- 关联规则(association ruls)：暗示两种物品之间可能存在很强的关系\n",
    "\n",
    "**名词解释**  \n",
    "- 频繁模式(frequent patterns)：是一种在数据集中频繁出现的模式（例如 项集，子序列，子结构）。例如牛奶和面包在一组交易数据集合中频繁的出现，那么称牛奶和面包是频繁项集；子序列，例如先买电脑，之后买相机，之后买存储卡，若它在购买历史中频繁出现，那么它是一个频繁序列模式；子结构可以指不同的结构形式，如子图、子树或子格，它们可以与项集或子序列组合在一起。如果一个子结构频繁出现，它被称为(频繁的)结构化模式。\n",
    "\n",
    "\n",
    "- 支持度(support):数据集中包含该项集的记录所占的比例。从下面的例子中可以看出{豆奶}的支持度为4/5，{豆奶，尿布}的支持度为3/5。支持度是针对项集来说的，因此可以定义一个最小支持度，只保留满足最小支持度的项集。\n",
    "\n",
    "\n",
    "- 置信度(confidence):置信度是针对一条诸如{尿布}->{葡萄酒}的关联规则来定义的。这条规则的可信度定义为 **支持度({尿布，葡萄酒})/支持度({尿布})** 。以下面的数据为例，support({尿布，葡萄酒})=3/5， support({尿布})=4/5，所以confidence(尿布->葡萄酒)=3/4=0.75。这意味着对于包含“尿布”的所有记录，我们的规则对其75%的记录都适用。\n",
    "\n",
    "\n",
    "| 交易编号| 商品\n",
    "| ---| ---|\n",
    "| 0 | 豆奶，莴苣 |\n",
    "| 1 | 莴苣，尿布，葡萄酒，甜菜|\n",
    "| 2 | 豆奶， 尿布，葡萄酒，橙汁 | \n",
    "| 3 | 莴苣，豆奶，尿布，葡萄酒 |\n",
    "| 4 | 莴苣，豆奶，尿布，橙汁 | "
   ]
  },
  {
   "cell_type": "markdown",
   "metadata": {},
   "source": [
    "## 11.1. Apriori\n",
    "一个拥有N个物品的集合共有$2^N-1$种项集组合，所需的计算时间非常长。Apriori是为了解决这个问题而提出的算法。\n",
    "\n",
    "Apriori的原理是如果某个项集是频繁的，那么它的所有子集也是频繁的。如果一个项集是非频繁的，那么它的超集也是非频繁的。例如计算出项集{2,3}是非频繁的，那么就知道{0,2,3},{1,2,3},{0,1,2,3}也是非频繁的，就不在需要计算这些项集的支持度。使用该原理就可以避免项集数目的指数增长。"
   ]
  },
  {
   "cell_type": "code",
   "execution_count": null,
   "metadata": {},
   "outputs": [],
   "source": []
  }
 ],
 "metadata": {
  "kernelspec": {
   "display_name": "Python 3",
   "language": "python",
   "name": "python3"
  },
  "language_info": {
   "codemirror_mode": {
    "name": "ipython",
    "version": 3
   },
   "file_extension": ".py",
   "mimetype": "text/x-python",
   "name": "python",
   "nbconvert_exporter": "python",
   "pygments_lexer": "ipython3",
   "version": "3.5.2"
  }
 },
 "nbformat": 4,
 "nbformat_minor": 2
}
